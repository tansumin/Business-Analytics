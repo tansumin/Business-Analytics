{
  "nbformat": 4,
  "nbformat_minor": 0,
  "metadata": {
    "kernelspec": {
      "display_name": "Python 3",
      "language": "python",
      "name": "python3"
    },
    "language_info": {
      "codemirror_mode": {
        "name": "ipython",
        "version": 3
      },
      "file_extension": ".py",
      "mimetype": "text/x-python",
      "name": "python",
      "nbconvert_exporter": "python",
      "pygments_lexer": "ipython3",
      "version": "3.7.2"
    },
    "colab": {
      "name": "Exercise-01-Aggregation-and-Grouping.ipynb",
      "provenance": [],
      "collapsed_sections": []
    }
  },
  "cells": [
    {
      "cell_type": "code",
      "metadata": {
        "id": "hugFuyiwDW6z"
      },
      "source": [
        "# This cell is used to load the hints and solutions, if needed\n",
        "from IPython.display import Pretty as disp\n",
        "hint = 'https://raw.githubusercontent.com/soltaniehha/Business-Analytics/master/docs/hints/'  # path to hints on GitHub"
      ],
      "execution_count": 1,
      "outputs": []
    },
    {
      "cell_type": "markdown",
      "metadata": {
        "id": "myOx4f1JDOBf"
      },
      "source": [
        "# Exercise (continued) - Working with Pandas and Seaborn\n",
        "\n",
        "Now it's your turn to practice what we learned in the class.\n",
        "\n",
        "In this notebook we will play with some of the concepts we just learned, such as handling missing values, grouping, and aggregation. You have seen this dataset in the previous class, so the first part of the notebook doesn't require you to write any code.\n",
        "\n",
        "We are working with the following dataset: `data/2017_StPaul_MN_Real_Estate.csv`\n",
        "\n",
        "Let's call this DataFrame `houses`. We can import the data using a URL, if the data file is located on the internet. This is a very convinient option since our file is located in my Github, however, this is not always the case and in real life the data is not on a public URL. We will use the URL syntax as much as possible to avoid any local path issues:"
      ]
    },
    {
      "cell_type": "code",
      "metadata": {
        "id": "5jfEAM1QDOBp",
        "outputId": "d46854eb-8e41-4390-c6b4-98ac8666721b"
      },
      "source": [
        "import pandas as pd\n",
        "\n",
        "url = 'https://raw.githubusercontent.com/soltaniehha/Business-Analytics/master/data/2017_StPaul_MN_Real_Estate.csv'\n",
        "houses = pd.read_csv(url)\n",
        "\n",
        "print(\"There are {} rows and {} columns.\".format(houses.shape[0], houses.shape[1]))"
      ],
      "execution_count": null,
      "outputs": [
        {
          "output_type": "stream",
          "text": [
            "There are 5000 rows and 74 columns.\n"
          ],
          "name": "stdout"
        }
      ]
    },
    {
      "cell_type": "markdown",
      "metadata": {
        "id": "iOICW1z7DOBv"
      },
      "source": [
        "This dataset has too many columns to study. To start, let's create a new dataset with a smaller number of attributes. To do this, use the following list, `subset_columns`:"
      ]
    },
    {
      "cell_type": "code",
      "metadata": {
        "id": "CGa2hmH5DOBv",
        "outputId": "6e4c94b1-d20f-449a-db25-f72450009dfb"
      },
      "source": [
        "subset_columns = ['streetaddress','STREETNAME', 'PostalCode', 'StateOrProvince', 'City', 'SchoolDistrictNumber',\n",
        "                  'SalesClosePrice', 'LISTDATE', 'offmarketdate', 'LISTPRICE', 'LISTTYPE', \n",
        "                  'OriginalListPrice', 'PricePerTSFT', 'DAYSONMARKET', 'ROOF', \n",
        "                  'SQFTABOVEGROUND', 'RoomArea1', 'YEARBUILT']\n",
        "\n",
        "df = houses[subset_columns].copy()  # This will create an individual copy of the original DataFrame\n",
        "\n",
        "# Adding a new column, sales_vs_list\n",
        "df['sales_vs_list'] = (df['SalesClosePrice'] - df['LISTPRICE'])/df['LISTPRICE'] * 100\n",
        "\n",
        "print(\"There are {} rows and {} columns.\".format(df.shape[0], df.shape[1]))\n",
        "df.head()"
      ],
      "execution_count": null,
      "outputs": [
        {
          "output_type": "stream",
          "text": [
            "There are 5000 rows and 19 columns.\n"
          ],
          "name": "stdout"
        },
        {
          "output_type": "execute_result",
          "data": {
            "text/html": [
              "<div>\n",
              "<style scoped>\n",
              "    .dataframe tbody tr th:only-of-type {\n",
              "        vertical-align: middle;\n",
              "    }\n",
              "\n",
              "    .dataframe tbody tr th {\n",
              "        vertical-align: top;\n",
              "    }\n",
              "\n",
              "    .dataframe thead th {\n",
              "        text-align: right;\n",
              "    }\n",
              "</style>\n",
              "<table border=\"1\" class=\"dataframe\">\n",
              "  <thead>\n",
              "    <tr style=\"text-align: right;\">\n",
              "      <th></th>\n",
              "      <th>streetaddress</th>\n",
              "      <th>STREETNAME</th>\n",
              "      <th>PostalCode</th>\n",
              "      <th>StateOrProvince</th>\n",
              "      <th>City</th>\n",
              "      <th>SchoolDistrictNumber</th>\n",
              "      <th>SalesClosePrice</th>\n",
              "      <th>LISTDATE</th>\n",
              "      <th>offmarketdate</th>\n",
              "      <th>LISTPRICE</th>\n",
              "      <th>LISTTYPE</th>\n",
              "      <th>OriginalListPrice</th>\n",
              "      <th>PricePerTSFT</th>\n",
              "      <th>DAYSONMARKET</th>\n",
              "      <th>ROOF</th>\n",
              "      <th>SQFTABOVEGROUND</th>\n",
              "      <th>RoomArea1</th>\n",
              "      <th>YEARBUILT</th>\n",
              "      <th>sales_vs_list</th>\n",
              "    </tr>\n",
              "  </thead>\n",
              "  <tbody>\n",
              "    <tr>\n",
              "      <th>0</th>\n",
              "      <td>11511 Stillwater Blvd N</td>\n",
              "      <td>Stillwater</td>\n",
              "      <td>55042</td>\n",
              "      <td>MN</td>\n",
              "      <td>LELM - Lake Elmo</td>\n",
              "      <td>834 - Stillwater</td>\n",
              "      <td>143000</td>\n",
              "      <td>7/15/2017 0:00</td>\n",
              "      <td>7/30/2017 0:00</td>\n",
              "      <td>139900</td>\n",
              "      <td>Exclusive Right</td>\n",
              "      <td>139900</td>\n",
              "      <td>145.9184</td>\n",
              "      <td>10</td>\n",
              "      <td>NaN</td>\n",
              "      <td>980</td>\n",
              "      <td>16 x 13</td>\n",
              "      <td>1950</td>\n",
              "      <td>2.215868</td>\n",
              "    </tr>\n",
              "    <tr>\n",
              "      <th>1</th>\n",
              "      <td>11200 31st St N</td>\n",
              "      <td>31st</td>\n",
              "      <td>55042</td>\n",
              "      <td>MN</td>\n",
              "      <td>LELM - Lake Elmo</td>\n",
              "      <td>834 - Stillwater</td>\n",
              "      <td>190000</td>\n",
              "      <td>10/9/2017 0:00</td>\n",
              "      <td>10/13/2017 0:00</td>\n",
              "      <td>210000</td>\n",
              "      <td>Exclusive Right</td>\n",
              "      <td>210000</td>\n",
              "      <td>85.2783</td>\n",
              "      <td>4</td>\n",
              "      <td>Asphalt Shingles, Pitched, Age 8 Years or Less</td>\n",
              "      <td>1268</td>\n",
              "      <td>22x14</td>\n",
              "      <td>1971</td>\n",
              "      <td>-9.523810</td>\n",
              "    </tr>\n",
              "    <tr>\n",
              "      <th>2</th>\n",
              "      <td>8583 Stillwater Blvd N</td>\n",
              "      <td>Stillwater</td>\n",
              "      <td>55042</td>\n",
              "      <td>MN</td>\n",
              "      <td>LELM - Lake Elmo</td>\n",
              "      <td>622 - North St Paul-Maplewood</td>\n",
              "      <td>225000</td>\n",
              "      <td>6/26/2017 0:00</td>\n",
              "      <td>7/24/2017 0:00</td>\n",
              "      <td>225000</td>\n",
              "      <td>Exclusive Right</td>\n",
              "      <td>225000</td>\n",
              "      <td>204.1742</td>\n",
              "      <td>28</td>\n",
              "      <td>NaN</td>\n",
              "      <td>1102</td>\n",
              "      <td>20x13</td>\n",
              "      <td>1949</td>\n",
              "      <td>0.000000</td>\n",
              "    </tr>\n",
              "    <tr>\n",
              "      <th>3</th>\n",
              "      <td>9350 31st St N</td>\n",
              "      <td>31st</td>\n",
              "      <td>55042</td>\n",
              "      <td>MN</td>\n",
              "      <td>LELM - Lake Elmo</td>\n",
              "      <td>834 - Stillwater</td>\n",
              "      <td>265000</td>\n",
              "      <td>8/25/2017 0:00</td>\n",
              "      <td>9/13/2017 0:00</td>\n",
              "      <td>230000</td>\n",
              "      <td>Exclusive Right</td>\n",
              "      <td>230000</td>\n",
              "      <td>162.3775</td>\n",
              "      <td>19</td>\n",
              "      <td>Asphalt Shingles, Pitched, Age 8 Years or Less</td>\n",
              "      <td>1284</td>\n",
              "      <td>NaN</td>\n",
              "      <td>1960</td>\n",
              "      <td>15.217391</td>\n",
              "    </tr>\n",
              "    <tr>\n",
              "      <th>4</th>\n",
              "      <td>2915 Inwood Ave N</td>\n",
              "      <td>Inwood</td>\n",
              "      <td>55042</td>\n",
              "      <td>MN</td>\n",
              "      <td>LELM - Lake Elmo</td>\n",
              "      <td>622 - North St Paul-Maplewood</td>\n",
              "      <td>249900</td>\n",
              "      <td>9/12/2017 0:00</td>\n",
              "      <td>10/3/2017 0:00</td>\n",
              "      <td>239900</td>\n",
              "      <td>Exclusive Right</td>\n",
              "      <td>239900</td>\n",
              "      <td>121.7836</td>\n",
              "      <td>21</td>\n",
              "      <td>Asphalt Shingles, Age Over 8 Years</td>\n",
              "      <td>1026</td>\n",
              "      <td>22x14</td>\n",
              "      <td>1978</td>\n",
              "      <td>4.168404</td>\n",
              "    </tr>\n",
              "  </tbody>\n",
              "</table>\n",
              "</div>"
            ],
            "text/plain": [
              "             streetaddress  STREETNAME  PostalCode StateOrProvince  \\\n",
              "0  11511 Stillwater Blvd N  Stillwater       55042              MN   \n",
              "1          11200 31st St N        31st       55042              MN   \n",
              "2   8583 Stillwater Blvd N  Stillwater       55042              MN   \n",
              "3           9350 31st St N        31st       55042              MN   \n",
              "4        2915 Inwood Ave N      Inwood       55042              MN   \n",
              "\n",
              "               City           SchoolDistrictNumber  SalesClosePrice  \\\n",
              "0  LELM - Lake Elmo               834 - Stillwater           143000   \n",
              "1  LELM - Lake Elmo               834 - Stillwater           190000   \n",
              "2  LELM - Lake Elmo  622 - North St Paul-Maplewood           225000   \n",
              "3  LELM - Lake Elmo               834 - Stillwater           265000   \n",
              "4  LELM - Lake Elmo  622 - North St Paul-Maplewood           249900   \n",
              "\n",
              "         LISTDATE    offmarketdate  LISTPRICE         LISTTYPE  \\\n",
              "0  7/15/2017 0:00   7/30/2017 0:00     139900  Exclusive Right   \n",
              "1  10/9/2017 0:00  10/13/2017 0:00     210000  Exclusive Right   \n",
              "2  6/26/2017 0:00   7/24/2017 0:00     225000  Exclusive Right   \n",
              "3  8/25/2017 0:00   9/13/2017 0:00     230000  Exclusive Right   \n",
              "4  9/12/2017 0:00   10/3/2017 0:00     239900  Exclusive Right   \n",
              "\n",
              "   OriginalListPrice  PricePerTSFT  DAYSONMARKET  \\\n",
              "0             139900      145.9184            10   \n",
              "1             210000       85.2783             4   \n",
              "2             225000      204.1742            28   \n",
              "3             230000      162.3775            19   \n",
              "4             239900      121.7836            21   \n",
              "\n",
              "                                             ROOF  SQFTABOVEGROUND RoomArea1  \\\n",
              "0                                             NaN              980   16 x 13   \n",
              "1  Asphalt Shingles, Pitched, Age 8 Years or Less             1268     22x14   \n",
              "2                                             NaN             1102     20x13   \n",
              "3  Asphalt Shingles, Pitched, Age 8 Years or Less             1284       NaN   \n",
              "4              Asphalt Shingles, Age Over 8 Years             1026     22x14   \n",
              "\n",
              "   YEARBUILT  sales_vs_list  \n",
              "0       1950       2.215868  \n",
              "1       1971      -9.523810  \n",
              "2       1949       0.000000  \n",
              "3       1960      15.217391  \n",
              "4       1978       4.168404  "
            ]
          },
          "metadata": {
            "tags": []
          },
          "execution_count": 2
        }
      ]
    },
    {
      "cell_type": "markdown",
      "metadata": {
        "id": "9NvGWr0ADOBx"
      },
      "source": [
        "Use `describe()` to get a high level summary of the data:"
      ]
    },
    {
      "cell_type": "code",
      "metadata": {
        "id": "AL-dDw1oDOBy",
        "outputId": "2c974ac9-f8c3-4900-c002-6bd5394a341a"
      },
      "source": [
        "df.describe()"
      ],
      "execution_count": null,
      "outputs": [
        {
          "output_type": "execute_result",
          "data": {
            "text/html": [
              "<div>\n",
              "<style scoped>\n",
              "    .dataframe tbody tr th:only-of-type {\n",
              "        vertical-align: middle;\n",
              "    }\n",
              "\n",
              "    .dataframe tbody tr th {\n",
              "        vertical-align: top;\n",
              "    }\n",
              "\n",
              "    .dataframe thead th {\n",
              "        text-align: right;\n",
              "    }\n",
              "</style>\n",
              "<table border=\"1\" class=\"dataframe\">\n",
              "  <thead>\n",
              "    <tr style=\"text-align: right;\">\n",
              "      <th></th>\n",
              "      <th>PostalCode</th>\n",
              "      <th>SalesClosePrice</th>\n",
              "      <th>LISTPRICE</th>\n",
              "      <th>OriginalListPrice</th>\n",
              "      <th>PricePerTSFT</th>\n",
              "      <th>DAYSONMARKET</th>\n",
              "      <th>SQFTABOVEGROUND</th>\n",
              "      <th>YEARBUILT</th>\n",
              "      <th>sales_vs_list</th>\n",
              "    </tr>\n",
              "  </thead>\n",
              "  <tbody>\n",
              "    <tr>\n",
              "      <th>count</th>\n",
              "      <td>5000.000000</td>\n",
              "      <td>5.000000e+03</td>\n",
              "      <td>5.000000e+03</td>\n",
              "      <td>5.000000e+03</td>\n",
              "      <td>5000.000000</td>\n",
              "      <td>5000.000000</td>\n",
              "      <td>5000.000000</td>\n",
              "      <td>5000.00000</td>\n",
              "      <td>5000.000000</td>\n",
              "    </tr>\n",
              "    <tr>\n",
              "      <th>mean</th>\n",
              "      <td>55113.216600</td>\n",
              "      <td>2.628045e+05</td>\n",
              "      <td>2.634194e+05</td>\n",
              "      <td>2.750026e+05</td>\n",
              "      <td>199.869863</td>\n",
              "      <td>28.358400</td>\n",
              "      <td>1489.013000</td>\n",
              "      <td>1958.99960</td>\n",
              "      <td>0.091693</td>\n",
              "    </tr>\n",
              "    <tr>\n",
              "      <th>std</th>\n",
              "      <td>16.040821</td>\n",
              "      <td>1.405598e+05</td>\n",
              "      <td>1.439441e+05</td>\n",
              "      <td>4.096207e+05</td>\n",
              "      <td>3887.265428</td>\n",
              "      <td>28.708702</td>\n",
              "      <td>626.486803</td>\n",
              "      <td>38.84975</td>\n",
              "      <td>4.514791</td>\n",
              "    </tr>\n",
              "    <tr>\n",
              "      <th>min</th>\n",
              "      <td>55042.000000</td>\n",
              "      <td>4.800000e+04</td>\n",
              "      <td>4.000000e+04</td>\n",
              "      <td>5.000000e+00</td>\n",
              "      <td>29.556700</td>\n",
              "      <td>0.000000</td>\n",
              "      <td>1.000000</td>\n",
              "      <td>1850.00000</td>\n",
              "      <td>-32.584270</td>\n",
              "    </tr>\n",
              "    <tr>\n",
              "      <th>25%</th>\n",
              "      <td>55105.000000</td>\n",
              "      <td>1.746500e+05</td>\n",
              "      <td>1.720000e+05</td>\n",
              "      <td>1.749000e+05</td>\n",
              "      <td>117.774375</td>\n",
              "      <td>9.000000</td>\n",
              "      <td>1074.000000</td>\n",
              "      <td>1923.00000</td>\n",
              "      <td>-1.937002</td>\n",
              "    </tr>\n",
              "    <tr>\n",
              "      <th>50%</th>\n",
              "      <td>55116.000000</td>\n",
              "      <td>2.250000e+05</td>\n",
              "      <td>2.249000e+05</td>\n",
              "      <td>2.250000e+05</td>\n",
              "      <td>135.728700</td>\n",
              "      <td>19.000000</td>\n",
              "      <td>1320.000000</td>\n",
              "      <td>1959.00000</td>\n",
              "      <td>0.000000</td>\n",
              "    </tr>\n",
              "    <tr>\n",
              "      <th>75%</th>\n",
              "      <td>55125.000000</td>\n",
              "      <td>3.150000e+05</td>\n",
              "      <td>3.150000e+05</td>\n",
              "      <td>3.200000e+05</td>\n",
              "      <td>164.092350</td>\n",
              "      <td>38.000000</td>\n",
              "      <td>1733.000000</td>\n",
              "      <td>1995.00000</td>\n",
              "      <td>2.000000</td>\n",
              "    </tr>\n",
              "    <tr>\n",
              "      <th>max</th>\n",
              "      <td>55130.000000</td>\n",
              "      <td>1.700000e+06</td>\n",
              "      <td>1.850000e+06</td>\n",
              "      <td>2.199000e+07</td>\n",
              "      <td>275000.000000</td>\n",
              "      <td>225.000000</td>\n",
              "      <td>7200.000000</td>\n",
              "      <td>2018.00000</td>\n",
              "      <td>100.000000</td>\n",
              "    </tr>\n",
              "  </tbody>\n",
              "</table>\n",
              "</div>"
            ],
            "text/plain": [
              "         PostalCode  SalesClosePrice     LISTPRICE  OriginalListPrice  \\\n",
              "count   5000.000000     5.000000e+03  5.000000e+03       5.000000e+03   \n",
              "mean   55113.216600     2.628045e+05  2.634194e+05       2.750026e+05   \n",
              "std       16.040821     1.405598e+05  1.439441e+05       4.096207e+05   \n",
              "min    55042.000000     4.800000e+04  4.000000e+04       5.000000e+00   \n",
              "25%    55105.000000     1.746500e+05  1.720000e+05       1.749000e+05   \n",
              "50%    55116.000000     2.250000e+05  2.249000e+05       2.250000e+05   \n",
              "75%    55125.000000     3.150000e+05  3.150000e+05       3.200000e+05   \n",
              "max    55130.000000     1.700000e+06  1.850000e+06       2.199000e+07   \n",
              "\n",
              "        PricePerTSFT  DAYSONMARKET  SQFTABOVEGROUND   YEARBUILT  sales_vs_list  \n",
              "count    5000.000000   5000.000000      5000.000000  5000.00000    5000.000000  \n",
              "mean      199.869863     28.358400      1489.013000  1958.99960       0.091693  \n",
              "std      3887.265428     28.708702       626.486803    38.84975       4.514791  \n",
              "min        29.556700      0.000000         1.000000  1850.00000     -32.584270  \n",
              "25%       117.774375      9.000000      1074.000000  1923.00000      -1.937002  \n",
              "50%       135.728700     19.000000      1320.000000  1959.00000       0.000000  \n",
              "75%       164.092350     38.000000      1733.000000  1995.00000       2.000000  \n",
              "max    275000.000000    225.000000      7200.000000  2018.00000     100.000000  "
            ]
          },
          "metadata": {
            "tags": []
          },
          "execution_count": 3
        }
      ]
    },
    {
      "cell_type": "markdown",
      "metadata": {
        "id": "7VAPXejTDOBz"
      },
      "source": [
        "Using `.info()` extract more info regarding the missing values and columns types:"
      ]
    },
    {
      "cell_type": "code",
      "metadata": {
        "id": "mImOz1dCDOB0",
        "outputId": "995c238b-b0fe-4802-bfd3-3a860483ae71"
      },
      "source": [
        "df.info()"
      ],
      "execution_count": null,
      "outputs": [
        {
          "output_type": "stream",
          "text": [
            "<class 'pandas.core.frame.DataFrame'>\n",
            "RangeIndex: 5000 entries, 0 to 4999\n",
            "Data columns (total 19 columns):\n",
            "streetaddress           5000 non-null object\n",
            "STREETNAME              5000 non-null object\n",
            "PostalCode              5000 non-null int64\n",
            "StateOrProvince         5000 non-null object\n",
            "City                    5000 non-null object\n",
            "SchoolDistrictNumber    5000 non-null object\n",
            "SalesClosePrice         5000 non-null int64\n",
            "LISTDATE                5000 non-null object\n",
            "offmarketdate           5000 non-null object\n",
            "LISTPRICE               5000 non-null int64\n",
            "LISTTYPE                5000 non-null object\n",
            "OriginalListPrice       5000 non-null int64\n",
            "PricePerTSFT            5000 non-null float64\n",
            "DAYSONMARKET            5000 non-null int64\n",
            "ROOF                    4235 non-null object\n",
            "SQFTABOVEGROUND         5000 non-null int64\n",
            "RoomArea1               4543 non-null object\n",
            "YEARBUILT               5000 non-null int64\n",
            "sales_vs_list           5000 non-null float64\n",
            "dtypes: float64(2), int64(7), object(10)\n",
            "memory usage: 742.3+ KB\n"
          ],
          "name": "stdout"
        }
      ]
    },
    {
      "cell_type": "markdown",
      "metadata": {
        "id": "trjPGK48DOB0"
      },
      "source": [
        "From the outcome of `info()` we can see that columns *ROOF* and *RoomArea1* have some null values. We can first visually inspect the rows where for instance *ROOF* is missing and see if we find any common cause:"
      ]
    },
    {
      "cell_type": "code",
      "metadata": {
        "id": "oQxShWssDOB1",
        "outputId": "713d9ac2-6f0b-4c2c-fbab-6696315fd987"
      },
      "source": [
        "df[df['ROOF'].isnull()].head()"
      ],
      "execution_count": null,
      "outputs": [
        {
          "output_type": "execute_result",
          "data": {
            "text/html": [
              "<div>\n",
              "<style scoped>\n",
              "    .dataframe tbody tr th:only-of-type {\n",
              "        vertical-align: middle;\n",
              "    }\n",
              "\n",
              "    .dataframe tbody tr th {\n",
              "        vertical-align: top;\n",
              "    }\n",
              "\n",
              "    .dataframe thead th {\n",
              "        text-align: right;\n",
              "    }\n",
              "</style>\n",
              "<table border=\"1\" class=\"dataframe\">\n",
              "  <thead>\n",
              "    <tr style=\"text-align: right;\">\n",
              "      <th></th>\n",
              "      <th>streetaddress</th>\n",
              "      <th>STREETNAME</th>\n",
              "      <th>PostalCode</th>\n",
              "      <th>StateOrProvince</th>\n",
              "      <th>City</th>\n",
              "      <th>SchoolDistrictNumber</th>\n",
              "      <th>SalesClosePrice</th>\n",
              "      <th>LISTDATE</th>\n",
              "      <th>offmarketdate</th>\n",
              "      <th>LISTPRICE</th>\n",
              "      <th>LISTTYPE</th>\n",
              "      <th>OriginalListPrice</th>\n",
              "      <th>PricePerTSFT</th>\n",
              "      <th>DAYSONMARKET</th>\n",
              "      <th>ROOF</th>\n",
              "      <th>SQFTABOVEGROUND</th>\n",
              "      <th>RoomArea1</th>\n",
              "      <th>YEARBUILT</th>\n",
              "      <th>sales_vs_list</th>\n",
              "    </tr>\n",
              "  </thead>\n",
              "  <tbody>\n",
              "    <tr>\n",
              "      <th>0</th>\n",
              "      <td>11511 Stillwater Blvd N</td>\n",
              "      <td>Stillwater</td>\n",
              "      <td>55042</td>\n",
              "      <td>MN</td>\n",
              "      <td>LELM - Lake Elmo</td>\n",
              "      <td>834 - Stillwater</td>\n",
              "      <td>143000</td>\n",
              "      <td>7/15/2017 0:00</td>\n",
              "      <td>7/30/2017 0:00</td>\n",
              "      <td>139900</td>\n",
              "      <td>Exclusive Right</td>\n",
              "      <td>139900</td>\n",
              "      <td>145.9184</td>\n",
              "      <td>10</td>\n",
              "      <td>NaN</td>\n",
              "      <td>980</td>\n",
              "      <td>16 x 13</td>\n",
              "      <td>1950</td>\n",
              "      <td>2.215868</td>\n",
              "    </tr>\n",
              "    <tr>\n",
              "      <th>2</th>\n",
              "      <td>8583 Stillwater Blvd N</td>\n",
              "      <td>Stillwater</td>\n",
              "      <td>55042</td>\n",
              "      <td>MN</td>\n",
              "      <td>LELM - Lake Elmo</td>\n",
              "      <td>622 - North St Paul-Maplewood</td>\n",
              "      <td>225000</td>\n",
              "      <td>6/26/2017 0:00</td>\n",
              "      <td>7/24/2017 0:00</td>\n",
              "      <td>225000</td>\n",
              "      <td>Exclusive Right</td>\n",
              "      <td>225000</td>\n",
              "      <td>204.1742</td>\n",
              "      <td>28</td>\n",
              "      <td>NaN</td>\n",
              "      <td>1102</td>\n",
              "      <td>20x13</td>\n",
              "      <td>1949</td>\n",
              "      <td>0.000000</td>\n",
              "    </tr>\n",
              "    <tr>\n",
              "      <th>26</th>\n",
              "      <td>8687 Lake Jane Trl N</td>\n",
              "      <td>Lake Jane</td>\n",
              "      <td>55042</td>\n",
              "      <td>MN</td>\n",
              "      <td>LELM - Lake Elmo</td>\n",
              "      <td>834 - Stillwater</td>\n",
              "      <td>310000</td>\n",
              "      <td>5/4/2017 0:00</td>\n",
              "      <td>5/12/2017 0:00</td>\n",
              "      <td>300000</td>\n",
              "      <td>Exclusive Right</td>\n",
              "      <td>350000</td>\n",
              "      <td>123.0647</td>\n",
              "      <td>8</td>\n",
              "      <td>NaN</td>\n",
              "      <td>1649</td>\n",
              "      <td>15x19</td>\n",
              "      <td>1973</td>\n",
              "      <td>3.333333</td>\n",
              "    </tr>\n",
              "    <tr>\n",
              "      <th>31</th>\n",
              "      <td>2410 Lisbon Ave N</td>\n",
              "      <td>Lisbon</td>\n",
              "      <td>55042</td>\n",
              "      <td>MN</td>\n",
              "      <td>LELM - Lake Elmo</td>\n",
              "      <td>834 - Stillwater</td>\n",
              "      <td>305000</td>\n",
              "      <td>6/8/2017 0:00</td>\n",
              "      <td>7/17/2017 0:00</td>\n",
              "      <td>319000</td>\n",
              "      <td>Exclusive Right</td>\n",
              "      <td>319000</td>\n",
              "      <td>132.0346</td>\n",
              "      <td>7</td>\n",
              "      <td>NaN</td>\n",
              "      <td>2060</td>\n",
              "      <td>18x15</td>\n",
              "      <td>1978</td>\n",
              "      <td>-4.388715</td>\n",
              "    </tr>\n",
              "    <tr>\n",
              "      <th>40</th>\n",
              "      <td>5231 Hilltop Ave N</td>\n",
              "      <td>Hilltop</td>\n",
              "      <td>55042</td>\n",
              "      <td>MN</td>\n",
              "      <td>LELM - Lake Elmo</td>\n",
              "      <td>622 - North St Paul-Maplewood</td>\n",
              "      <td>380000</td>\n",
              "      <td>7/5/2017 0:00</td>\n",
              "      <td>7/5/2017 0:00</td>\n",
              "      <td>380000</td>\n",
              "      <td>Exclusive Right</td>\n",
              "      <td>380000</td>\n",
              "      <td>113.7044</td>\n",
              "      <td>0</td>\n",
              "      <td>NaN</td>\n",
              "      <td>2542</td>\n",
              "      <td>NaN</td>\n",
              "      <td>1978</td>\n",
              "      <td>0.000000</td>\n",
              "    </tr>\n",
              "  </tbody>\n",
              "</table>\n",
              "</div>"
            ],
            "text/plain": [
              "              streetaddress  STREETNAME  PostalCode StateOrProvince  \\\n",
              "0   11511 Stillwater Blvd N  Stillwater       55042              MN   \n",
              "2    8583 Stillwater Blvd N  Stillwater       55042              MN   \n",
              "26     8687 Lake Jane Trl N   Lake Jane       55042              MN   \n",
              "31        2410 Lisbon Ave N      Lisbon       55042              MN   \n",
              "40       5231 Hilltop Ave N     Hilltop       55042              MN   \n",
              "\n",
              "                City           SchoolDistrictNumber  SalesClosePrice  \\\n",
              "0   LELM - Lake Elmo               834 - Stillwater           143000   \n",
              "2   LELM - Lake Elmo  622 - North St Paul-Maplewood           225000   \n",
              "26  LELM - Lake Elmo               834 - Stillwater           310000   \n",
              "31  LELM - Lake Elmo               834 - Stillwater           305000   \n",
              "40  LELM - Lake Elmo  622 - North St Paul-Maplewood           380000   \n",
              "\n",
              "          LISTDATE   offmarketdate  LISTPRICE         LISTTYPE  \\\n",
              "0   7/15/2017 0:00  7/30/2017 0:00     139900  Exclusive Right   \n",
              "2   6/26/2017 0:00  7/24/2017 0:00     225000  Exclusive Right   \n",
              "26   5/4/2017 0:00  5/12/2017 0:00     300000  Exclusive Right   \n",
              "31   6/8/2017 0:00  7/17/2017 0:00     319000  Exclusive Right   \n",
              "40   7/5/2017 0:00   7/5/2017 0:00     380000  Exclusive Right   \n",
              "\n",
              "    OriginalListPrice  PricePerTSFT  DAYSONMARKET ROOF  SQFTABOVEGROUND  \\\n",
              "0              139900      145.9184            10  NaN              980   \n",
              "2              225000      204.1742            28  NaN             1102   \n",
              "26             350000      123.0647             8  NaN             1649   \n",
              "31             319000      132.0346             7  NaN             2060   \n",
              "40             380000      113.7044             0  NaN             2542   \n",
              "\n",
              "   RoomArea1  YEARBUILT  sales_vs_list  \n",
              "0    16 x 13       1950       2.215868  \n",
              "2      20x13       1949       0.000000  \n",
              "26     15x19       1973       3.333333  \n",
              "31     18x15       1978      -4.388715  \n",
              "40       NaN       1978       0.000000  "
            ]
          },
          "metadata": {
            "tags": []
          },
          "execution_count": 5
        }
      ]
    },
    {
      "cell_type": "markdown",
      "metadata": {
        "id": "-u5F-DNlDOB2"
      },
      "source": [
        "# Your Trun\n",
        "\n",
        "Let's find out what possible values *ROOF* can get. We can do this by applying `.unique()` function on the column of interest"
      ]
    },
    {
      "cell_type": "code",
      "metadata": {
        "id": "Pl0zYe-FDOB2",
        "outputId": "97404236-c8f2-4539-a7b7-f477947927b7"
      },
      "source": [
        "# Your answer goes here\n"
      ],
      "execution_count": null,
      "outputs": [
        {
          "output_type": "execute_result",
          "data": {
            "text/plain": [
              "array([nan, 'Asphalt Shingles, Pitched, Age 8 Years or Less',\n",
              "       'Asphalt Shingles, Age Over 8 Years',\n",
              "       'Asphalt Shingles, Age 8 Years or Less', 'Asphalt Shingles',\n",
              "       'Asphalt Shingles, Pitched, Age Over 8 Years',\n",
              "       'Age 8 Years or Less', 'Asphalt Shingles, Pitched',\n",
              "       'Pitched, Age 8 Years or Less', 'Flat, Tar/Gravel', 'Flat',\n",
              "       'Age Over 8 Years', 'Asphalt Shingles, Age Over 8 Years, Rubber',\n",
              "       'Flat, Tar/Gravel, Rubber',\n",
              "       'Asphalt Shingles, Pitched, Age Over 8 Years, Rubber',\n",
              "       'Unspecified Shingle', 'Pitched, Age Over 8 Years',\n",
              "       'Asphalt Shingles, Rubber', 'Metal',\n",
              "       'Asphalt Shingles, Pitched, Flat, Age 8 Years or Less, Age Over 8 Years, Rubber',\n",
              "       'Asphalt Shingles, Flat, Tar/Gravel, Age Over 8 Years, Rubber',\n",
              "       'Pitched',\n",
              "       'Asphalt Shingles, Age 8 Years or Less, Age Over 8 Years',\n",
              "       'Pitched, Unspecified Shingle',\n",
              "       'Unspecified Shingle, Age Over 8 Years', 'Asphalt Shingles, Flat',\n",
              "       'Flat, Rubber', 'Tar/Gravel', 'Flat, Age 8 Years or Less', 'Other',\n",
              "       'Asphalt Shingles, Age Over 8 Years, Other',\n",
              "       'Flat, Age Over 8 Years', 'Age Over 8 Years, Other',\n",
              "       'Flat, Age Over 8 Years, Rubber',\n",
              "       'Pitched, Age 8 Years or Less, Metal',\n",
              "       'Flat, Tar/Gravel, Age Over 8 Years',\n",
              "       'Flat, Tar/Gravel, Age 8 Years or Less',\n",
              "       'Asphalt Shingles, Age 8 Years or Less, Metal', 'Rubber',\n",
              "       'Asphalt Shingles, Pitched, Flat, Age Over 8 Years',\n",
              "       'Asphalt Shingles, Pitched, Flat, Age 8 Years or Less, Rubber',\n",
              "       'Flat, Age 8 Years or Less, Rubber', 'Flat, Other',\n",
              "       'Pitched, Flat, Age 8 Years or Less',\n",
              "       'Asphalt Shingles, Pitched, Flat', 'Shakes',\n",
              "       'Asphalt Shingles, Pitched, Age 8 Years or Less, Age Over 8 Years',\n",
              "       'Asphalt Shingles, Flat, Age Over 8 Years',\n",
              "       'Asphalt Shingles, Pitched, Flat, Age Over 8 Years, Rubber',\n",
              "       'Rubber, Metal', 'Age Over 8 Years, Tile', 'Tile',\n",
              "       'Asphalt Shingles, Age 8 Years or Less, Rubber',\n",
              "       'Asphalt Shingles, Flat, Age 8 Years or Less, Rubber',\n",
              "       'Pitched, Age Over 8 Years, Rubber', 'Pitched, Tar/Gravel',\n",
              "       'Asphalt Shingles, Pitched, Flat, Age 8 Years or Less',\n",
              "       'Pitched, Unspecified Shingle, Age 8 Years or Less',\n",
              "       'Age 8 Years or Less, Metal',\n",
              "       'Asphalt Shingles, Pitched, Flat, Rubber',\n",
              "       'Flat, Age Over 8 Years, Tile', 'Pitched, Tile',\n",
              "       'Age Over 8 Years, Shakes, Wood Shingles',\n",
              "       'Age Over 8 Years, Slate',\n",
              "       'Asphalt Shingles, Pitched, Flat, Tar/Gravel, Age Over 8 Years',\n",
              "       'Slate', 'Pitched, Age 8 Years or Less, Rubber',\n",
              "       'Age Over 8 Years, Slate, Metal', 'Age Over 8 Years, Shakes',\n",
              "       'Age Over 8 Years, Tile, Metal',\n",
              "       'Unspecified Shingle, Age 8 Years or Less', 'Wood Shingles',\n",
              "       'Pitched, Age Over 8 Years, Shakes',\n",
              "       'Asphalt Shingles, Age 8 Years or Less, Shakes'], dtype=object)"
            ]
          },
          "metadata": {
            "tags": []
          },
          "execution_count": 6
        }
      ]
    },
    {
      "cell_type": "code",
      "metadata": {
        "id": "6Z0qVTQrDcHw"
      },
      "source": [
        "# SOLUTION: Uncomment and execute the cell below to get help\n",
        "#disp(hint + '05_01_01')"
      ],
      "execution_count": 3,
      "outputs": []
    },
    {
      "cell_type": "markdown",
      "metadata": {
        "id": "67VcehJ1DOB3"
      },
      "source": [
        "This is great, but wouldn't it be even cooler to see how popular these roofs are? Let's use a `groupby()` on our `df` DataFrame and count how many times each roof type was used in the dataset. The easy way to do this is to use the function `size()`, which will give you the number of elements in each group:\n",
        "\n",
        "hint1: this will print a long list, you can use `.head(10)` to limit it."
      ]
    },
    {
      "cell_type": "code",
      "metadata": {
        "id": "T_ayn1mvDOB3",
        "outputId": "05d71414-1d4c-49d6-8a61-655f2678d104"
      },
      "source": [
        "# Your answer goes here\n"
      ],
      "execution_count": null,
      "outputs": [
        {
          "output_type": "execute_result",
          "data": {
            "text/plain": [
              "ROOF\n",
              "Age 8 Years or Less                        95\n",
              "Age 8 Years or Less, Metal                  1\n",
              "Age Over 8 Years                           70\n",
              "Age Over 8 Years, Other                     1\n",
              "Age Over 8 Years, Shakes                    1\n",
              "Age Over 8 Years, Shakes, Wood Shingles     1\n",
              "Age Over 8 Years, Slate                     1\n",
              "Age Over 8 Years, Slate, Metal              1\n",
              "Age Over 8 Years, Tile                      2\n",
              "Age Over 8 Years, Tile, Metal               1\n",
              "dtype: int64"
            ]
          },
          "metadata": {
            "tags": []
          },
          "execution_count": 7
        }
      ]
    },
    {
      "cell_type": "code",
      "metadata": {
        "id": "klHD6guwDq6p"
      },
      "source": [
        "# SOLUTION: Uncomment and execute the cell below to get help\n",
        "#disp(hint + '05_01_02')"
      ],
      "execution_count": null,
      "outputs": []
    },
    {
      "cell_type": "markdown",
      "metadata": {
        "id": "S7mC6hSPDOB4"
      },
      "source": [
        "Now we will sort it to get the most common ones on top. Use `.sort_values()` (right after your aggregation function and before using `head()`. If you use it after head it will only sort among the limited ones that were printed which is not what we are looking for here):"
      ]
    },
    {
      "cell_type": "code",
      "metadata": {
        "id": "vG1CIDjsDOB5",
        "outputId": "5fe2f1a6-5a65-4d5a-9a90-6ad49edb58ae"
      },
      "source": [
        "# Your answer goes here\n"
      ],
      "execution_count": null,
      "outputs": [
        {
          "output_type": "execute_result",
          "data": {
            "text/plain": [
              "ROOF\n",
              "Asphalt Shingles                                  1417\n",
              "Asphalt Shingles, Age 8 Years or Less              839\n",
              "Asphalt Shingles, Age Over 8 Years                 643\n",
              "Asphalt Shingles, Pitched, Age 8 Years or Less     362\n",
              "Asphalt Shingles, Pitched                          292\n",
              "Asphalt Shingles, Pitched, Age Over 8 Years        268\n",
              "Age 8 Years or Less                                 95\n",
              "Age Over 8 Years                                    70\n",
              "Flat                                                60\n",
              "Flat, Age Over 8 Years                              19\n",
              "dtype: int64"
            ]
          },
          "metadata": {
            "tags": []
          },
          "execution_count": 8
        }
      ]
    },
    {
      "cell_type": "code",
      "metadata": {
        "id": "ORSGxaheDwA_"
      },
      "source": [
        "# SOLUTION: Uncomment and execute the cell below to get help\n",
        "#disp(hint + '05_01_03')"
      ],
      "execution_count": null,
      "outputs": []
    },
    {
      "cell_type": "markdown",
      "metadata": {
        "id": "dHDcrq70DOB6"
      },
      "source": [
        "Let's find out how many values are missig from *ROOF* (even though we can find out from `info()`).\n",
        "\n",
        "1. Subset the column of interest by the following format: `DF['col1']`. This will give us a Series object.\n",
        "2. Chain the `isnull()` function to this Series. I.e, `DF['col1'].isnull()`\n",
        "3. Chain the `sum()` function to the previous step"
      ]
    },
    {
      "cell_type": "code",
      "metadata": {
        "id": "Kxz_Ei0SDOB6",
        "outputId": "10e0e96c-d81b-4558-d796-62f7c9f1f5af"
      },
      "source": [
        "# Your answer goes here\n"
      ],
      "execution_count": null,
      "outputs": [
        {
          "output_type": "execute_result",
          "data": {
            "text/plain": [
              "765"
            ]
          },
          "metadata": {
            "tags": []
          },
          "execution_count": 9
        }
      ]
    },
    {
      "cell_type": "code",
      "metadata": {
        "id": "vtUZdopOD1JK"
      },
      "source": [
        "# SOLUTION: Uncomment and execute the cell below to get help\n",
        "#disp(hint + '05_01_04')"
      ],
      "execution_count": null,
      "outputs": []
    },
    {
      "cell_type": "markdown",
      "metadata": {
        "id": "a2R3EYK5DOB8"
      },
      "source": [
        "Let's replace the null values with the most commonly value used in the dataset, \"Asphalt Shingles\". **Note:** This may or may not be the right thing to do depending on the problem you are solving. \n",
        "\n",
        "To do so we can use the `.fillna()` function, chain it to the column subset, `df['ROOF']`. Within the argument of this function you want to first pass the replacement to be used, here \"Asphalt Shingles\", and then `inplace=True`. If we don't specify the inplace being active it won't permanently fill the nulls in our DataFrame."
      ]
    },
    {
      "cell_type": "code",
      "metadata": {
        "id": "f4fLoSM8DOB8"
      },
      "source": [
        "# Your answer goes here\n"
      ],
      "execution_count": null,
      "outputs": []
    },
    {
      "cell_type": "code",
      "metadata": {
        "id": "jFc_acvPD6cq"
      },
      "source": [
        "# SOLUTION: Uncomment and execute the cell below to get help\n",
        "#disp(hint + '05_01_05')"
      ],
      "execution_count": null,
      "outputs": []
    },
    {
      "cell_type": "markdown",
      "metadata": {
        "id": "7lEWDww_DOB9"
      },
      "source": [
        "Check if there are any nulls left in that column (similar to the cell above):"
      ]
    },
    {
      "cell_type": "code",
      "metadata": {
        "id": "ZITPh1GjDOB9",
        "outputId": "9889e7db-cd0d-4093-ce55-298ef416d542"
      },
      "source": [
        "# Your answer goes here\n"
      ],
      "execution_count": null,
      "outputs": [
        {
          "output_type": "execute_result",
          "data": {
            "text/plain": [
              "0"
            ]
          },
          "metadata": {
            "tags": []
          },
          "execution_count": 11
        }
      ]
    },
    {
      "cell_type": "code",
      "metadata": {
        "id": "YCsWSZU5D-51"
      },
      "source": [
        "# SOLUTION: Uncomment and execute the cell below to get help\n",
        "#disp(hint + '05_01_06')"
      ],
      "execution_count": null,
      "outputs": []
    },
    {
      "cell_type": "markdown",
      "metadata": {
        "id": "thyYUW6pDOB-"
      },
      "source": [
        "Check out the `info()`:"
      ]
    },
    {
      "cell_type": "code",
      "metadata": {
        "id": "m5Jdzgq2DOB_",
        "outputId": "91cf5e58-9c8b-4ea4-ed75-1997f4c28064"
      },
      "source": [
        "# Your answer goes here\n"
      ],
      "execution_count": null,
      "outputs": [
        {
          "output_type": "stream",
          "text": [
            "<class 'pandas.core.frame.DataFrame'>\n",
            "RangeIndex: 5000 entries, 0 to 4999\n",
            "Data columns (total 19 columns):\n",
            "streetaddress           5000 non-null object\n",
            "STREETNAME              5000 non-null object\n",
            "PostalCode              5000 non-null int64\n",
            "StateOrProvince         5000 non-null object\n",
            "City                    5000 non-null object\n",
            "SchoolDistrictNumber    5000 non-null object\n",
            "SalesClosePrice         5000 non-null int64\n",
            "LISTDATE                5000 non-null object\n",
            "offmarketdate           5000 non-null object\n",
            "LISTPRICE               5000 non-null int64\n",
            "LISTTYPE                5000 non-null object\n",
            "OriginalListPrice       5000 non-null int64\n",
            "PricePerTSFT            5000 non-null float64\n",
            "DAYSONMARKET            5000 non-null int64\n",
            "ROOF                    5000 non-null object\n",
            "SQFTABOVEGROUND         5000 non-null int64\n",
            "RoomArea1               4543 non-null object\n",
            "YEARBUILT               5000 non-null int64\n",
            "sales_vs_list           5000 non-null float64\n",
            "dtypes: float64(2), int64(7), object(10)\n",
            "memory usage: 742.3+ KB\n"
          ],
          "name": "stdout"
        }
      ]
    },
    {
      "cell_type": "code",
      "metadata": {
        "id": "jXrdStY_EDhK"
      },
      "source": [
        "# SOLUTION: Uncomment and execute the cell below to get help\n",
        "#disp(hint + '05_01_07')"
      ],
      "execution_count": null,
      "outputs": []
    },
    {
      "cell_type": "markdown",
      "metadata": {
        "id": "5pMWtm89DOB_"
      },
      "source": [
        "We can see that the only column with null is `RoomArea1`. For the sake of practice let's handle it differently this time. We will drop any records that doesn't have a value for this column. We can do this using `dropna()` function.\n",
        "\n",
        "Do NOT use the option `inplace=True`, instead save the output into a new DataFrame called `df2`:"
      ]
    },
    {
      "cell_type": "code",
      "metadata": {
        "id": "_7jNmMSODOCA"
      },
      "source": [
        "# Your answer goes here\n"
      ],
      "execution_count": null,
      "outputs": []
    },
    {
      "cell_type": "code",
      "metadata": {
        "id": "0ssgzyDnEH9v"
      },
      "source": [
        "# SOLUTION: Uncomment and execute the cell below to get help\n",
        "#disp(hint + '05_01_08')"
      ],
      "execution_count": null,
      "outputs": []
    },
    {
      "cell_type": "markdown",
      "metadata": {
        "id": "mG-0oSDfDOCA"
      },
      "source": [
        "Let's check out the `info()` on `df2`:"
      ]
    },
    {
      "cell_type": "code",
      "metadata": {
        "id": "08ZLA6gYDOCD",
        "outputId": "6dad0d58-6c1b-4de5-e4a0-7fa70a55331d"
      },
      "source": [
        "df2.info()"
      ],
      "execution_count": null,
      "outputs": [
        {
          "output_type": "stream",
          "text": [
            "<class 'pandas.core.frame.DataFrame'>\n",
            "Int64Index: 4543 entries, 0 to 4999\n",
            "Data columns (total 19 columns):\n",
            "streetaddress           4543 non-null object\n",
            "STREETNAME              4543 non-null object\n",
            "PostalCode              4543 non-null int64\n",
            "StateOrProvince         4543 non-null object\n",
            "City                    4543 non-null object\n",
            "SchoolDistrictNumber    4543 non-null object\n",
            "SalesClosePrice         4543 non-null int64\n",
            "LISTDATE                4543 non-null object\n",
            "offmarketdate           4543 non-null object\n",
            "LISTPRICE               4543 non-null int64\n",
            "LISTTYPE                4543 non-null object\n",
            "OriginalListPrice       4543 non-null int64\n",
            "PricePerTSFT            4543 non-null float64\n",
            "DAYSONMARKET            4543 non-null int64\n",
            "ROOF                    4543 non-null object\n",
            "SQFTABOVEGROUND         4543 non-null int64\n",
            "RoomArea1               4543 non-null object\n",
            "YEARBUILT               4543 non-null int64\n",
            "sales_vs_list           4543 non-null float64\n",
            "dtypes: float64(2), int64(7), object(10)\n",
            "memory usage: 709.8+ KB\n"
          ],
          "name": "stdout"
        }
      ]
    },
    {
      "cell_type": "markdown",
      "metadata": {
        "id": "tzvcYqwyDOCF"
      },
      "source": [
        "`dropna()` removes all of the records that have any number of nulls. For other functionalities please check out the help function or go back to 02-Aggregation-and-Grouping.ipynb.\n",
        "\n",
        "We could continue with `df2` but we weren't really planing on using `RoomArea1` for this analysis. In order to have a clean dataset let's just remove that column. The advantage would be that we get to keep all the 5000 data points.\n",
        "\n",
        "To do so we will use `drop()` function. \n",
        "\n",
        "1. Pass the name of the column to drop\n",
        "2. Set parameter `axis=1`. This will indicate that the name that we passed is a column name and not a row name (index)\n",
        "3. `inplace=True`"
      ]
    },
    {
      "cell_type": "code",
      "metadata": {
        "id": "J7bgoprcDOCG"
      },
      "source": [
        "# Your answer goes here\n"
      ],
      "execution_count": null,
      "outputs": []
    },
    {
      "cell_type": "code",
      "metadata": {
        "id": "6IMOyrDsERSM"
      },
      "source": [
        "# SOLUTION: Uncomment and execute the cell below to get help\n",
        "#disp(hint + '05_01_09')"
      ],
      "execution_count": null,
      "outputs": []
    },
    {
      "cell_type": "markdown",
      "metadata": {
        "id": "Mob-JotvDOCG"
      },
      "source": [
        "Check out the `info()`:"
      ]
    },
    {
      "cell_type": "code",
      "metadata": {
        "id": "gGL9Df-YDOCG",
        "outputId": "47605727-5169-4f3f-e5c4-e464129a2981"
      },
      "source": [
        "df.info()"
      ],
      "execution_count": null,
      "outputs": [
        {
          "output_type": "stream",
          "text": [
            "<class 'pandas.core.frame.DataFrame'>\n",
            "RangeIndex: 5000 entries, 0 to 4999\n",
            "Data columns (total 18 columns):\n",
            "streetaddress           5000 non-null object\n",
            "STREETNAME              5000 non-null object\n",
            "PostalCode              5000 non-null int64\n",
            "StateOrProvince         5000 non-null object\n",
            "City                    5000 non-null object\n",
            "SchoolDistrictNumber    5000 non-null object\n",
            "SalesClosePrice         5000 non-null int64\n",
            "LISTDATE                5000 non-null object\n",
            "offmarketdate           5000 non-null object\n",
            "LISTPRICE               5000 non-null int64\n",
            "LISTTYPE                5000 non-null object\n",
            "OriginalListPrice       5000 non-null int64\n",
            "PricePerTSFT            5000 non-null float64\n",
            "DAYSONMARKET            5000 non-null int64\n",
            "ROOF                    5000 non-null object\n",
            "SQFTABOVEGROUND         5000 non-null int64\n",
            "YEARBUILT               5000 non-null int64\n",
            "sales_vs_list           5000 non-null float64\n",
            "dtypes: float64(2), int64(7), object(9)\n",
            "memory usage: 703.2+ KB\n"
          ],
          "name": "stdout"
        }
      ]
    },
    {
      "cell_type": "markdown",
      "metadata": {
        "id": "X5_05o0CDOCH"
      },
      "source": [
        "Okay! Now that we don't have any missing values in our DataFrame let's continue with some aggregation tasks.\n",
        "\n",
        "Group our `df` by \"City\" and calculate min, max, and count for every group and every column.\n",
        "\n",
        "Hint: use function `agg()` and pass a list of aggregation function you need."
      ]
    },
    {
      "cell_type": "code",
      "metadata": {
        "id": "A_sgze8nDOCH",
        "outputId": "a5b93e26-3c33-49a6-83d5-d94b85718e83"
      },
      "source": [
        "# Your answer goes here\n"
      ],
      "execution_count": null,
      "outputs": [
        {
          "output_type": "execute_result",
          "data": {
            "text/html": [
              "<div>\n",
              "<style scoped>\n",
              "    .dataframe tbody tr th:only-of-type {\n",
              "        vertical-align: middle;\n",
              "    }\n",
              "\n",
              "    .dataframe tbody tr th {\n",
              "        vertical-align: top;\n",
              "    }\n",
              "\n",
              "    .dataframe thead tr th {\n",
              "        text-align: left;\n",
              "    }\n",
              "\n",
              "    .dataframe thead tr:last-of-type th {\n",
              "        text-align: right;\n",
              "    }\n",
              "</style>\n",
              "<table border=\"1\" class=\"dataframe\">\n",
              "  <thead>\n",
              "    <tr>\n",
              "      <th></th>\n",
              "      <th colspan=\"2\" halign=\"left\">streetaddress</th>\n",
              "      <th colspan=\"2\" halign=\"left\">STREETNAME</th>\n",
              "      <th colspan=\"2\" halign=\"left\">PostalCode</th>\n",
              "      <th colspan=\"2\" halign=\"left\">StateOrProvince</th>\n",
              "      <th colspan=\"2\" halign=\"left\">SchoolDistrictNumber</th>\n",
              "      <th>...</th>\n",
              "      <th colspan=\"2\" halign=\"left\">DAYSONMARKET</th>\n",
              "      <th colspan=\"2\" halign=\"left\">ROOF</th>\n",
              "      <th colspan=\"2\" halign=\"left\">SQFTABOVEGROUND</th>\n",
              "      <th colspan=\"2\" halign=\"left\">YEARBUILT</th>\n",
              "      <th colspan=\"2\" halign=\"left\">sales_vs_list</th>\n",
              "    </tr>\n",
              "    <tr>\n",
              "      <th></th>\n",
              "      <th>min</th>\n",
              "      <th>max</th>\n",
              "      <th>min</th>\n",
              "      <th>max</th>\n",
              "      <th>min</th>\n",
              "      <th>max</th>\n",
              "      <th>min</th>\n",
              "      <th>max</th>\n",
              "      <th>min</th>\n",
              "      <th>max</th>\n",
              "      <th>...</th>\n",
              "      <th>min</th>\n",
              "      <th>max</th>\n",
              "      <th>min</th>\n",
              "      <th>max</th>\n",
              "      <th>min</th>\n",
              "      <th>max</th>\n",
              "      <th>min</th>\n",
              "      <th>max</th>\n",
              "      <th>min</th>\n",
              "      <th>max</th>\n",
              "    </tr>\n",
              "    <tr>\n",
              "      <th>City</th>\n",
              "      <th></th>\n",
              "      <th></th>\n",
              "      <th></th>\n",
              "      <th></th>\n",
              "      <th></th>\n",
              "      <th></th>\n",
              "      <th></th>\n",
              "      <th></th>\n",
              "      <th></th>\n",
              "      <th></th>\n",
              "      <th></th>\n",
              "      <th></th>\n",
              "      <th></th>\n",
              "      <th></th>\n",
              "      <th></th>\n",
              "      <th></th>\n",
              "      <th></th>\n",
              "      <th></th>\n",
              "      <th></th>\n",
              "      <th></th>\n",
              "      <th></th>\n",
              "    </tr>\n",
              "  </thead>\n",
              "  <tbody>\n",
              "    <tr>\n",
              "      <th>LELM - Lake Elmo</th>\n",
              "      <td>10024 Tapestry Rd</td>\n",
              "      <td>9957 5th Street Ln N</td>\n",
              "      <td>11th</td>\n",
              "      <td>Wildflower</td>\n",
              "      <td>55042</td>\n",
              "      <td>55042</td>\n",
              "      <td>MN</td>\n",
              "      <td>MN</td>\n",
              "      <td>6 - South St. Paul</td>\n",
              "      <td>834 - Stillwater</td>\n",
              "      <td>...</td>\n",
              "      <td>0</td>\n",
              "      <td>174</td>\n",
              "      <td>Age 8 Years or Less</td>\n",
              "      <td>Pitched, Age 8 Years or Less</td>\n",
              "      <td>980</td>\n",
              "      <td>4870</td>\n",
              "      <td>1949</td>\n",
              "      <td>2018</td>\n",
              "      <td>-9.523810</td>\n",
              "      <td>15.217391</td>\n",
              "    </tr>\n",
              "    <tr>\n",
              "      <th>MAPW - Maplewood</th>\n",
              "      <td>1004 Crestview Dr S</td>\n",
              "      <td>999 Kohlman Ln</td>\n",
              "      <td>Abel</td>\n",
              "      <td>mcafee circle</td>\n",
              "      <td>55106</td>\n",
              "      <td>55119</td>\n",
              "      <td>MN</td>\n",
              "      <td>MN</td>\n",
              "      <td>622 - North St Paul-Maplewood</td>\n",
              "      <td>624 - White Bear Lake</td>\n",
              "      <td>...</td>\n",
              "      <td>0</td>\n",
              "      <td>158</td>\n",
              "      <td>Age 8 Years or Less</td>\n",
              "      <td>Unspecified Shingle</td>\n",
              "      <td>739</td>\n",
              "      <td>3128</td>\n",
              "      <td>1896</td>\n",
              "      <td>2017</td>\n",
              "      <td>-15.068493</td>\n",
              "      <td>11.830489</td>\n",
              "    </tr>\n",
              "    <tr>\n",
              "      <th>OAKD - Oakdale</th>\n",
              "      <td>1062 Hillvale Ave N</td>\n",
              "      <td>950 Gershwin Ave N</td>\n",
              "      <td>10th</td>\n",
              "      <td>Upper 5th</td>\n",
              "      <td>55128</td>\n",
              "      <td>55128</td>\n",
              "      <td>MN</td>\n",
              "      <td>MN</td>\n",
              "      <td>622 - North St Paul-Maplewood</td>\n",
              "      <td>622 - North St Paul-Maplewood</td>\n",
              "      <td>...</td>\n",
              "      <td>0</td>\n",
              "      <td>195</td>\n",
              "      <td>Age 8 Years or Less</td>\n",
              "      <td>Pitched, Unspecified Shingle</td>\n",
              "      <td>621</td>\n",
              "      <td>3262</td>\n",
              "      <td>1888</td>\n",
              "      <td>2017</td>\n",
              "      <td>-22.222222</td>\n",
              "      <td>11.000636</td>\n",
              "    </tr>\n",
              "    <tr>\n",
              "      <th>STP - Saint Paul</th>\n",
              "      <td>1 Irvine Park, 1B</td>\n",
              "      <td>998 Linwood Ave</td>\n",
              "      <td>10th</td>\n",
              "      <td>dieter</td>\n",
              "      <td>55101</td>\n",
              "      <td>55130</td>\n",
              "      <td>MN</td>\n",
              "      <td>MN</td>\n",
              "      <td>623 - Roseville</td>\n",
              "      <td>625 - St. Paul</td>\n",
              "      <td>...</td>\n",
              "      <td>0</td>\n",
              "      <td>225</td>\n",
              "      <td>Age 8 Years or Less</td>\n",
              "      <td>Unspecified Shingle, Age Over 8 Years</td>\n",
              "      <td>1</td>\n",
              "      <td>7200</td>\n",
              "      <td>1858</td>\n",
              "      <td>2017</td>\n",
              "      <td>-32.584270</td>\n",
              "      <td>100.000000</td>\n",
              "    </tr>\n",
              "    <tr>\n",
              "      <th>WB - Woodbury</th>\n",
              "      <td>10033 Raleigh Ct</td>\n",
              "      <td>9965 Tamarack Cv</td>\n",
              "      <td>Acadia</td>\n",
              "      <td>York Bay</td>\n",
              "      <td>55125</td>\n",
              "      <td>55129</td>\n",
              "      <td>MN</td>\n",
              "      <td>MN</td>\n",
              "      <td>622 - North St Paul-Maplewood</td>\n",
              "      <td>834 - Stillwater</td>\n",
              "      <td>...</td>\n",
              "      <td>0</td>\n",
              "      <td>191</td>\n",
              "      <td>Age 8 Years or Less</td>\n",
              "      <td>Wood Shingles</td>\n",
              "      <td>687</td>\n",
              "      <td>4321</td>\n",
              "      <td>1850</td>\n",
              "      <td>2017</td>\n",
              "      <td>-16.620345</td>\n",
              "      <td>35.747711</td>\n",
              "    </tr>\n",
              "  </tbody>\n",
              "</table>\n",
              "<p>5 rows × 34 columns</p>\n",
              "</div>"
            ],
            "text/plain": [
              "                        streetaddress                       STREETNAME  \\\n",
              "                                  min                   max        min   \n",
              "City                                                                     \n",
              "LELM - Lake Elmo    10024 Tapestry Rd  9957 5th Street Ln N       11th   \n",
              "MAPW - Maplewood  1004 Crestview Dr S        999 Kohlman Ln       Abel   \n",
              "OAKD - Oakdale    1062 Hillvale Ave N    950 Gershwin Ave N       10th   \n",
              "STP - Saint Paul    1 Irvine Park, 1B       998 Linwood Ave       10th   \n",
              "WB - Woodbury        10033 Raleigh Ct      9965 Tamarack Cv     Acadia   \n",
              "\n",
              "                                PostalCode        StateOrProvince      \\\n",
              "                            max        min    max             min max   \n",
              "City                                                                    \n",
              "LELM - Lake Elmo     Wildflower      55042  55042              MN  MN   \n",
              "MAPW - Maplewood  mcafee circle      55106  55119              MN  MN   \n",
              "OAKD - Oakdale        Upper 5th      55128  55128              MN  MN   \n",
              "STP - Saint Paul         dieter      55101  55130              MN  MN   \n",
              "WB - Woodbury          York Bay      55125  55129              MN  MN   \n",
              "\n",
              "                           SchoolDistrictNumber  \\\n",
              "                                            min   \n",
              "City                                              \n",
              "LELM - Lake Elmo             6 - South St. Paul   \n",
              "MAPW - Maplewood  622 - North St Paul-Maplewood   \n",
              "OAKD - Oakdale    622 - North St Paul-Maplewood   \n",
              "STP - Saint Paul                623 - Roseville   \n",
              "WB - Woodbury     622 - North St Paul-Maplewood   \n",
              "\n",
              "                                                    ...     DAYSONMARKET       \\\n",
              "                                            max     ...              min  max   \n",
              "City                                                ...                         \n",
              "LELM - Lake Elmo               834 - Stillwater     ...                0  174   \n",
              "MAPW - Maplewood          624 - White Bear Lake     ...                0  158   \n",
              "OAKD - Oakdale    622 - North St Paul-Maplewood     ...                0  195   \n",
              "STP - Saint Paul                 625 - St. Paul     ...                0  225   \n",
              "WB - Woodbury                  834 - Stillwater     ...                0  191   \n",
              "\n",
              "                                 ROOF                                         \\\n",
              "                                  min                                    max   \n",
              "City                                                                           \n",
              "LELM - Lake Elmo  Age 8 Years or Less           Pitched, Age 8 Years or Less   \n",
              "MAPW - Maplewood  Age 8 Years or Less                    Unspecified Shingle   \n",
              "OAKD - Oakdale    Age 8 Years or Less           Pitched, Unspecified Shingle   \n",
              "STP - Saint Paul  Age 8 Years or Less  Unspecified Shingle, Age Over 8 Years   \n",
              "WB - Woodbury     Age 8 Years or Less                          Wood Shingles   \n",
              "\n",
              "                 SQFTABOVEGROUND       YEARBUILT       sales_vs_list  \\\n",
              "                             min   max       min   max           min   \n",
              "City                                                                   \n",
              "LELM - Lake Elmo             980  4870      1949  2018     -9.523810   \n",
              "MAPW - Maplewood             739  3128      1896  2017    -15.068493   \n",
              "OAKD - Oakdale               621  3262      1888  2017    -22.222222   \n",
              "STP - Saint Paul               1  7200      1858  2017    -32.584270   \n",
              "WB - Woodbury                687  4321      1850  2017    -16.620345   \n",
              "\n",
              "                              \n",
              "                         max  \n",
              "City                          \n",
              "LELM - Lake Elmo   15.217391  \n",
              "MAPW - Maplewood   11.830489  \n",
              "OAKD - Oakdale     11.000636  \n",
              "STP - Saint Paul  100.000000  \n",
              "WB - Woodbury      35.747711  \n",
              "\n",
              "[5 rows x 34 columns]"
            ]
          },
          "metadata": {
            "tags": []
          },
          "execution_count": 17
        }
      ]
    },
    {
      "cell_type": "code",
      "metadata": {
        "id": "hSiL0NmnEYGG"
      },
      "source": [
        "# SOLUTION: Uncomment and execute the cell below to get help\n",
        "#disp(hint + '05_01_10')"
      ],
      "execution_count": null,
      "outputs": []
    },
    {
      "cell_type": "markdown",
      "metadata": {
        "id": "M68V085SDOCI"
      },
      "source": [
        "Too many values are being printed and it's really hard to read. Let's limit this by asking to show `SalesClosePrice` and `SQFTABOVEGROUND` only.\n",
        "\n",
        "Hint: you can do this by passing `[['SalesClosePrice', 'SQFTABOVEGROUND']]` to groupby."
      ]
    },
    {
      "cell_type": "code",
      "metadata": {
        "id": "AA-XD-NlDOCI",
        "outputId": "b42c5bdb-3a52-47df-b88d-a294e196864b"
      },
      "source": [
        "# Your answer goes here\n"
      ],
      "execution_count": null,
      "outputs": [
        {
          "output_type": "execute_result",
          "data": {
            "text/html": [
              "<div>\n",
              "<style scoped>\n",
              "    .dataframe tbody tr th:only-of-type {\n",
              "        vertical-align: middle;\n",
              "    }\n",
              "\n",
              "    .dataframe tbody tr th {\n",
              "        vertical-align: top;\n",
              "    }\n",
              "\n",
              "    .dataframe thead tr th {\n",
              "        text-align: left;\n",
              "    }\n",
              "\n",
              "    .dataframe thead tr:last-of-type th {\n",
              "        text-align: right;\n",
              "    }\n",
              "</style>\n",
              "<table border=\"1\" class=\"dataframe\">\n",
              "  <thead>\n",
              "    <tr>\n",
              "      <th></th>\n",
              "      <th colspan=\"3\" halign=\"left\">SalesClosePrice</th>\n",
              "      <th colspan=\"3\" halign=\"left\">SQFTABOVEGROUND</th>\n",
              "    </tr>\n",
              "    <tr>\n",
              "      <th></th>\n",
              "      <th>min</th>\n",
              "      <th>max</th>\n",
              "      <th>count</th>\n",
              "      <th>min</th>\n",
              "      <th>max</th>\n",
              "      <th>count</th>\n",
              "    </tr>\n",
              "    <tr>\n",
              "      <th>City</th>\n",
              "      <th></th>\n",
              "      <th></th>\n",
              "      <th></th>\n",
              "      <th></th>\n",
              "      <th></th>\n",
              "      <th></th>\n",
              "    </tr>\n",
              "  </thead>\n",
              "  <tbody>\n",
              "    <tr>\n",
              "      <th>LELM - Lake Elmo</th>\n",
              "      <td>143000</td>\n",
              "      <td>1277023</td>\n",
              "      <td>155</td>\n",
              "      <td>980</td>\n",
              "      <td>4870</td>\n",
              "      <td>155</td>\n",
              "    </tr>\n",
              "    <tr>\n",
              "      <th>MAPW - Maplewood</th>\n",
              "      <td>90000</td>\n",
              "      <td>535000</td>\n",
              "      <td>473</td>\n",
              "      <td>739</td>\n",
              "      <td>3128</td>\n",
              "      <td>473</td>\n",
              "    </tr>\n",
              "    <tr>\n",
              "      <th>OAKD - Oakdale</th>\n",
              "      <td>78000</td>\n",
              "      <td>439000</td>\n",
              "      <td>400</td>\n",
              "      <td>621</td>\n",
              "      <td>3262</td>\n",
              "      <td>400</td>\n",
              "    </tr>\n",
              "    <tr>\n",
              "      <th>STP - Saint Paul</th>\n",
              "      <td>48000</td>\n",
              "      <td>1700000</td>\n",
              "      <td>2825</td>\n",
              "      <td>1</td>\n",
              "      <td>7200</td>\n",
              "      <td>2825</td>\n",
              "    </tr>\n",
              "    <tr>\n",
              "      <th>WB - Woodbury</th>\n",
              "      <td>90000</td>\n",
              "      <td>1077200</td>\n",
              "      <td>1147</td>\n",
              "      <td>687</td>\n",
              "      <td>4321</td>\n",
              "      <td>1147</td>\n",
              "    </tr>\n",
              "  </tbody>\n",
              "</table>\n",
              "</div>"
            ],
            "text/plain": [
              "                 SalesClosePrice                SQFTABOVEGROUND            \n",
              "                             min      max count             min   max count\n",
              "City                                                                       \n",
              "LELM - Lake Elmo          143000  1277023   155             980  4870   155\n",
              "MAPW - Maplewood           90000   535000   473             739  3128   473\n",
              "OAKD - Oakdale             78000   439000   400             621  3262   400\n",
              "STP - Saint Paul           48000  1700000  2825               1  7200  2825\n",
              "WB - Woodbury              90000  1077200  1147             687  4321  1147"
            ]
          },
          "metadata": {
            "tags": []
          },
          "execution_count": 18
        }
      ]
    },
    {
      "cell_type": "code",
      "metadata": {
        "id": "dohcpHEuEdV_"
      },
      "source": [
        "# SOLUTION: Uncomment and execute the cell below to get help\n",
        "#disp(hint + '05_01_11')"
      ],
      "execution_count": null,
      "outputs": []
    },
    {
      "cell_type": "markdown",
      "metadata": {
        "id": "ylY4XNGKDOCK"
      },
      "source": [
        "Use `describe()` and `groupby()` to get a high level summary of \"LISTPRICE\" for each \"City\".\n",
        "\n",
        "1. Apply groupby and use the column you want to group with\n",
        "2. Pass the name of the column you'd like `describe()` to describe!\n",
        "3. Chain `describe()`"
      ]
    },
    {
      "cell_type": "code",
      "metadata": {
        "id": "GjioDeA0DOCK",
        "outputId": "aaf320dc-6fcf-45b3-dca8-53fa04f3a8eb"
      },
      "source": [
        "# Your answer goes here\n"
      ],
      "execution_count": null,
      "outputs": [
        {
          "output_type": "execute_result",
          "data": {
            "text/html": [
              "<div>\n",
              "<style scoped>\n",
              "    .dataframe tbody tr th:only-of-type {\n",
              "        vertical-align: middle;\n",
              "    }\n",
              "\n",
              "    .dataframe tbody tr th {\n",
              "        vertical-align: top;\n",
              "    }\n",
              "\n",
              "    .dataframe thead th {\n",
              "        text-align: right;\n",
              "    }\n",
              "</style>\n",
              "<table border=\"1\" class=\"dataframe\">\n",
              "  <thead>\n",
              "    <tr style=\"text-align: right;\">\n",
              "      <th></th>\n",
              "      <th>count</th>\n",
              "      <th>mean</th>\n",
              "      <th>std</th>\n",
              "      <th>min</th>\n",
              "      <th>25%</th>\n",
              "      <th>50%</th>\n",
              "      <th>75%</th>\n",
              "      <th>max</th>\n",
              "    </tr>\n",
              "    <tr>\n",
              "      <th>City</th>\n",
              "      <th></th>\n",
              "      <th></th>\n",
              "      <th></th>\n",
              "      <th></th>\n",
              "      <th></th>\n",
              "      <th></th>\n",
              "      <th></th>\n",
              "      <th></th>\n",
              "    </tr>\n",
              "  </thead>\n",
              "  <tbody>\n",
              "    <tr>\n",
              "      <th>LELM - Lake Elmo</th>\n",
              "      <td>155.0</td>\n",
              "      <td>457157.380645</td>\n",
              "      <td>165685.771104</td>\n",
              "      <td>139900.0</td>\n",
              "      <td>342450.0</td>\n",
              "      <td>437436.0</td>\n",
              "      <td>516532.5</td>\n",
              "      <td>1285479.0</td>\n",
              "    </tr>\n",
              "    <tr>\n",
              "      <th>MAPW - Maplewood</th>\n",
              "      <td>473.0</td>\n",
              "      <td>233108.215645</td>\n",
              "      <td>66801.553050</td>\n",
              "      <td>85000.0</td>\n",
              "      <td>189900.0</td>\n",
              "      <td>224900.0</td>\n",
              "      <td>259000.0</td>\n",
              "      <td>549900.0</td>\n",
              "    </tr>\n",
              "    <tr>\n",
              "      <th>OAKD - Oakdale</th>\n",
              "      <td>400.0</td>\n",
              "      <td>223928.325000</td>\n",
              "      <td>70882.890951</td>\n",
              "      <td>79900.0</td>\n",
              "      <td>166125.0</td>\n",
              "      <td>219900.0</td>\n",
              "      <td>269900.0</td>\n",
              "      <td>495000.0</td>\n",
              "    </tr>\n",
              "    <tr>\n",
              "      <th>STP - Saint Paul</th>\n",
              "      <td>2825.0</td>\n",
              "      <td>240065.377345</td>\n",
              "      <td>147211.225853</td>\n",
              "      <td>40000.0</td>\n",
              "      <td>160000.0</td>\n",
              "      <td>199900.0</td>\n",
              "      <td>265000.0</td>\n",
              "      <td>1850000.0</td>\n",
              "    </tr>\n",
              "    <tr>\n",
              "      <th>WB - Woodbury</th>\n",
              "      <td>1147.0</td>\n",
              "      <td>321029.837838</td>\n",
              "      <td>137976.708986</td>\n",
              "      <td>94900.0</td>\n",
              "      <td>210000.0</td>\n",
              "      <td>304900.0</td>\n",
              "      <td>399900.0</td>\n",
              "      <td>1077200.0</td>\n",
              "    </tr>\n",
              "  </tbody>\n",
              "</table>\n",
              "</div>"
            ],
            "text/plain": [
              "                   count           mean            std       min       25%  \\\n",
              "City                                                                         \n",
              "LELM - Lake Elmo   155.0  457157.380645  165685.771104  139900.0  342450.0   \n",
              "MAPW - Maplewood   473.0  233108.215645   66801.553050   85000.0  189900.0   \n",
              "OAKD - Oakdale     400.0  223928.325000   70882.890951   79900.0  166125.0   \n",
              "STP - Saint Paul  2825.0  240065.377345  147211.225853   40000.0  160000.0   \n",
              "WB - Woodbury     1147.0  321029.837838  137976.708986   94900.0  210000.0   \n",
              "\n",
              "                       50%       75%        max  \n",
              "City                                             \n",
              "LELM - Lake Elmo  437436.0  516532.5  1285479.0  \n",
              "MAPW - Maplewood  224900.0  259000.0   549900.0  \n",
              "OAKD - Oakdale    219900.0  269900.0   495000.0  \n",
              "STP - Saint Paul  199900.0  265000.0  1850000.0  \n",
              "WB - Woodbury     304900.0  399900.0  1077200.0  "
            ]
          },
          "metadata": {
            "tags": []
          },
          "execution_count": 19
        }
      ]
    },
    {
      "cell_type": "code",
      "metadata": {
        "id": "nVx5-evXEhde"
      },
      "source": [
        "# SOLUTION: Uncomment and execute the cell below to get help\n",
        "#disp(hint + '05_01_12')"
      ],
      "execution_count": null,
      "outputs": []
    },
    {
      "cell_type": "code",
      "metadata": {
        "id": "DYW7oQmdDOCK"
      },
      "source": [
        "import seaborn as sns\n",
        "import matplotlib.pyplot as plt\n",
        "\n",
        "sns.violinplot(x=\"City\", y=\"SalesClosePrice\", data=df, inner=\"quartile\",\n",
        "               scale='count')\n",
        "plt.xticks(rotation=90)\n",
        "plt.title(\"Distribution of Closing Price for Different Cities\")\n",
        "sns.despine()"
      ],
      "execution_count": null,
      "outputs": []
    },
    {
      "cell_type": "markdown",
      "metadata": {
        "id": "K2hzZoRXDOCL"
      },
      "source": [
        "This time your turn. Use the `boxplot()` function to plot box plots of `sales_vs_list` for each city:\n",
        "\n",
        "Hint: Code the similar to the one above without setting parameters inner and scale."
      ]
    },
    {
      "cell_type": "code",
      "metadata": {
        "id": "XP2-Fu8DDOCM",
        "outputId": "bfb1c404-4fea-4837-f4ca-6eb77e58047e"
      },
      "source": [
        "# Your answer goes here\n"
      ],
      "execution_count": null,
      "outputs": [
        {
          "output_type": "display_data",
          "data": {
            "image/png": "[encoded data removed]",
            "text/plain": [
              "<Figure size 432x288 with 1 Axes>"
            ]
          },
          "metadata": {
            "tags": [],
            "needs_background": "light"
          }
        }
      ]
    },
    {
      "cell_type": "code",
      "metadata": {
        "id": "oS1G_hjIElYs"
      },
      "source": [
        "# SOLUTION: Uncomment and execute the cell below to get help\n",
        "#disp(hint + '05_01_13')"
      ],
      "execution_count": null,
      "outputs": []
    },
    {
      "cell_type": "markdown",
      "metadata": {
        "id": "hNcWqCMiDOCM"
      },
      "source": [
        "Notice that we have modified the \"inner\" option of the plot above. It accepts the following values: {\"box\", \"quartile\", \"point\", \"stick\", None}. Try them to see the difference.\n",
        "\n",
        "We also have changed the scale method, the method used to scale the width of each violin. These are the possible options: {\"area\", \"count\", \"width\"}. If ``area``, each violin will have the same area. If ``count``, the width of the violins will be scaled by the number of observations in that bin. If ``width``, each violin will have the same width."
      ]
    },
    {
      "cell_type": "markdown",
      "metadata": {
        "id": "PnYLmZ1PDOCO"
      },
      "source": [
        "Now let's use the `agg()` function to find the avergae `SalesClosePrice` per each `PostalCode` and `count` for each group:"
      ]
    },
    {
      "cell_type": "code",
      "metadata": {
        "id": "JliWO4ByDOCO",
        "outputId": "975ced50-3c25-4c83-f444-f78d4e074c2d"
      },
      "source": [
        "# Your answer goes here\n"
      ],
      "execution_count": null,
      "outputs": [
        {
          "output_type": "execute_result",
          "data": {
            "text/html": [
              "<div>\n",
              "<style scoped>\n",
              "    .dataframe tbody tr th:only-of-type {\n",
              "        vertical-align: middle;\n",
              "    }\n",
              "\n",
              "    .dataframe tbody tr th {\n",
              "        vertical-align: top;\n",
              "    }\n",
              "\n",
              "    .dataframe thead th {\n",
              "        text-align: right;\n",
              "    }\n",
              "</style>\n",
              "<table border=\"1\" class=\"dataframe\">\n",
              "  <thead>\n",
              "    <tr style=\"text-align: right;\">\n",
              "      <th></th>\n",
              "      <th>mean</th>\n",
              "      <th>count</th>\n",
              "    </tr>\n",
              "    <tr>\n",
              "      <th>PostalCode</th>\n",
              "      <th></th>\n",
              "      <th></th>\n",
              "    </tr>\n",
              "  </thead>\n",
              "  <tbody>\n",
              "    <tr>\n",
              "      <th>55042</th>\n",
              "      <td>453924.451613</td>\n",
              "      <td>155</td>\n",
              "    </tr>\n",
              "    <tr>\n",
              "      <th>55101</th>\n",
              "      <td>229211.651685</td>\n",
              "      <td>89</td>\n",
              "    </tr>\n",
              "    <tr>\n",
              "      <th>55102</th>\n",
              "      <td>254126.765625</td>\n",
              "      <td>256</td>\n",
              "    </tr>\n",
              "    <tr>\n",
              "      <th>55103</th>\n",
              "      <td>185478.571429</td>\n",
              "      <td>70</td>\n",
              "    </tr>\n",
              "    <tr>\n",
              "      <th>55104</th>\n",
              "      <td>245745.831606</td>\n",
              "      <td>386</td>\n",
              "    </tr>\n",
              "    <tr>\n",
              "      <th>55105</th>\n",
              "      <td>394371.244068</td>\n",
              "      <td>295</td>\n",
              "    </tr>\n",
              "    <tr>\n",
              "      <th>55106</th>\n",
              "      <td>175005.966165</td>\n",
              "      <td>532</td>\n",
              "    </tr>\n",
              "    <tr>\n",
              "      <th>55107</th>\n",
              "      <td>188804.597222</td>\n",
              "      <td>144</td>\n",
              "    </tr>\n",
              "    <tr>\n",
              "      <th>55108</th>\n",
              "      <td>286337.745098</td>\n",
              "      <td>102</td>\n",
              "    </tr>\n",
              "    <tr>\n",
              "      <th>55109</th>\n",
              "      <td>228107.943231</td>\n",
              "      <td>229</td>\n",
              "    </tr>\n",
              "    <tr>\n",
              "      <th>55113</th>\n",
              "      <td>186333.333333</td>\n",
              "      <td>3</td>\n",
              "    </tr>\n",
              "    <tr>\n",
              "      <th>55114</th>\n",
              "      <td>233278.260870</td>\n",
              "      <td>23</td>\n",
              "    </tr>\n",
              "    <tr>\n",
              "      <th>55116</th>\n",
              "      <td>345528.942085</td>\n",
              "      <td>259</td>\n",
              "    </tr>\n",
              "    <tr>\n",
              "      <th>55117</th>\n",
              "      <td>191768.424855</td>\n",
              "      <td>346</td>\n",
              "    </tr>\n",
              "    <tr>\n",
              "      <th>55118</th>\n",
              "      <td>210000.000000</td>\n",
              "      <td>1</td>\n",
              "    </tr>\n",
              "    <tr>\n",
              "      <th>55119</th>\n",
              "      <td>211156.096491</td>\n",
              "      <td>456</td>\n",
              "    </tr>\n",
              "    <tr>\n",
              "      <th>55125</th>\n",
              "      <td>276051.948758</td>\n",
              "      <td>644</td>\n",
              "    </tr>\n",
              "    <tr>\n",
              "      <th>55128</th>\n",
              "      <td>223870.700000</td>\n",
              "      <td>400</td>\n",
              "    </tr>\n",
              "    <tr>\n",
              "      <th>55129</th>\n",
              "      <td>374209.035785</td>\n",
              "      <td>503</td>\n",
              "    </tr>\n",
              "    <tr>\n",
              "      <th>55130</th>\n",
              "      <td>172657.112150</td>\n",
              "      <td>107</td>\n",
              "    </tr>\n",
              "  </tbody>\n",
              "</table>\n",
              "</div>"
            ],
            "text/plain": [
              "                     mean  count\n",
              "PostalCode                      \n",
              "55042       453924.451613    155\n",
              "55101       229211.651685     89\n",
              "55102       254126.765625    256\n",
              "55103       185478.571429     70\n",
              "55104       245745.831606    386\n",
              "55105       394371.244068    295\n",
              "55106       175005.966165    532\n",
              "55107       188804.597222    144\n",
              "55108       286337.745098    102\n",
              "55109       228107.943231    229\n",
              "55113       186333.333333      3\n",
              "55114       233278.260870     23\n",
              "55116       345528.942085    259\n",
              "55117       191768.424855    346\n",
              "55118       210000.000000      1\n",
              "55119       211156.096491    456\n",
              "55125       276051.948758    644\n",
              "55128       223870.700000    400\n",
              "55129       374209.035785    503\n",
              "55130       172657.112150    107"
            ]
          },
          "metadata": {
            "tags": []
          },
          "execution_count": 22
        }
      ]
    },
    {
      "cell_type": "code",
      "metadata": {
        "id": "yZESP70lEp4y"
      },
      "source": [
        "# SOLUTION: Uncomment and execute the cell below to get help\n",
        "#disp(hint + '05_01_14')"
      ],
      "execution_count": null,
      "outputs": []
    },
    {
      "cell_type": "markdown",
      "metadata": {
        "id": "P6z5xxjiDOCs"
      },
      "source": [
        "Let's use the `filter()` function to filter all the houses that are within `PostalCode` that have had an average `SalesClosePrice` of less than 250,000. Save the result to a new DataFrame and call it `df_inexpensive_zips`. Run the aggregate again:"
      ]
    },
    {
      "cell_type": "code",
      "metadata": {
        "id": "7hbp2w-zDOCs"
      },
      "source": [
        "# Your answer goes here\n"
      ],
      "execution_count": null,
      "outputs": []
    },
    {
      "cell_type": "code",
      "metadata": {
        "id": "1a5gImCNEuZb"
      },
      "source": [
        "# SOLUTION: Uncomment and execute the cell below to get help\n",
        "#disp(hint + '05_01_15')"
      ],
      "execution_count": null,
      "outputs": []
    },
    {
      "cell_type": "code",
      "metadata": {
        "id": "q1i-pKFFDOCs",
        "outputId": "2c2978e8-abdc-4cb4-fff7-668468e979d4"
      },
      "source": [
        "# Your answer goes here\n"
      ],
      "execution_count": null,
      "outputs": [
        {
          "output_type": "execute_result",
          "data": {
            "text/html": [
              "<div>\n",
              "<style scoped>\n",
              "    .dataframe tbody tr th:only-of-type {\n",
              "        vertical-align: middle;\n",
              "    }\n",
              "\n",
              "    .dataframe tbody tr th {\n",
              "        vertical-align: top;\n",
              "    }\n",
              "\n",
              "    .dataframe thead th {\n",
              "        text-align: right;\n",
              "    }\n",
              "</style>\n",
              "<table border=\"1\" class=\"dataframe\">\n",
              "  <thead>\n",
              "    <tr style=\"text-align: right;\">\n",
              "      <th></th>\n",
              "      <th>streetaddress</th>\n",
              "      <th>STREETNAME</th>\n",
              "      <th>PostalCode</th>\n",
              "      <th>StateOrProvince</th>\n",
              "      <th>City</th>\n",
              "      <th>SchoolDistrictNumber</th>\n",
              "      <th>SalesClosePrice</th>\n",
              "      <th>LISTDATE</th>\n",
              "      <th>offmarketdate</th>\n",
              "      <th>LISTPRICE</th>\n",
              "      <th>LISTTYPE</th>\n",
              "      <th>OriginalListPrice</th>\n",
              "      <th>PricePerTSFT</th>\n",
              "      <th>DAYSONMARKET</th>\n",
              "      <th>ROOF</th>\n",
              "      <th>SQFTABOVEGROUND</th>\n",
              "      <th>YEARBUILT</th>\n",
              "      <th>sales_vs_list</th>\n",
              "    </tr>\n",
              "  </thead>\n",
              "  <tbody>\n",
              "    <tr>\n",
              "      <th>155</th>\n",
              "      <td>1215 Ferndale St N, A8</td>\n",
              "      <td>Ferndale</td>\n",
              "      <td>55119</td>\n",
              "      <td>MN</td>\n",
              "      <td>MAPW - Maplewood</td>\n",
              "      <td>622 - North St Paul-Maplewood</td>\n",
              "      <td>90000</td>\n",
              "      <td>4/20/2017 0:00</td>\n",
              "      <td>5/18/2017 0:00</td>\n",
              "      <td>85000</td>\n",
              "      <td>Exclusive Right</td>\n",
              "      <td>85000</td>\n",
              "      <td>100.2227</td>\n",
              "      <td>6</td>\n",
              "      <td>Asphalt Shingles</td>\n",
              "      <td>898</td>\n",
              "      <td>1983</td>\n",
              "      <td>5.882353</td>\n",
              "    </tr>\n",
              "    <tr>\n",
              "      <th>156</th>\n",
              "      <td>2465 Londin Ln E, 207</td>\n",
              "      <td>Londin</td>\n",
              "      <td>55119</td>\n",
              "      <td>MN</td>\n",
              "      <td>MAPW - Maplewood</td>\n",
              "      <td>622 - North St Paul-Maplewood</td>\n",
              "      <td>94900</td>\n",
              "      <td>5/4/2017 0:00</td>\n",
              "      <td>5/15/2017 0:00</td>\n",
              "      <td>94900</td>\n",
              "      <td>Exclusive Right</td>\n",
              "      <td>94900</td>\n",
              "      <td>112.9762</td>\n",
              "      <td>11</td>\n",
              "      <td>Flat, Tar/Gravel</td>\n",
              "      <td>840</td>\n",
              "      <td>1973</td>\n",
              "      <td>0.000000</td>\n",
              "    </tr>\n",
              "    <tr>\n",
              "      <th>157</th>\n",
              "      <td>701 Larpenteur Ave E, 701G</td>\n",
              "      <td>Larpenteur</td>\n",
              "      <td>55117</td>\n",
              "      <td>MN</td>\n",
              "      <td>MAPW - Maplewood</td>\n",
              "      <td>623 - Roseville</td>\n",
              "      <td>112500</td>\n",
              "      <td>12/13/2017 0:00</td>\n",
              "      <td>1/22/2018 0:00</td>\n",
              "      <td>115000</td>\n",
              "      <td>Exclusive Right</td>\n",
              "      <td>115000</td>\n",
              "      <td>103.2110</td>\n",
              "      <td>5</td>\n",
              "      <td>Asphalt Shingles</td>\n",
              "      <td>1090</td>\n",
              "      <td>1984</td>\n",
              "      <td>-2.173913</td>\n",
              "    </tr>\n",
              "  </tbody>\n",
              "</table>\n",
              "</div>"
            ],
            "text/plain": [
              "                  streetaddress  STREETNAME  PostalCode StateOrProvince  \\\n",
              "155      1215 Ferndale St N, A8    Ferndale       55119              MN   \n",
              "156       2465 Londin Ln E, 207      Londin       55119              MN   \n",
              "157  701 Larpenteur Ave E, 701G  Larpenteur       55117              MN   \n",
              "\n",
              "                 City           SchoolDistrictNumber  SalesClosePrice  \\\n",
              "155  MAPW - Maplewood  622 - North St Paul-Maplewood            90000   \n",
              "156  MAPW - Maplewood  622 - North St Paul-Maplewood            94900   \n",
              "157  MAPW - Maplewood                623 - Roseville           112500   \n",
              "\n",
              "            LISTDATE   offmarketdate  LISTPRICE         LISTTYPE  \\\n",
              "155   4/20/2017 0:00  5/18/2017 0:00      85000  Exclusive Right   \n",
              "156    5/4/2017 0:00  5/15/2017 0:00      94900  Exclusive Right   \n",
              "157  12/13/2017 0:00  1/22/2018 0:00     115000  Exclusive Right   \n",
              "\n",
              "     OriginalListPrice  PricePerTSFT  DAYSONMARKET              ROOF  \\\n",
              "155              85000      100.2227             6  Asphalt Shingles   \n",
              "156              94900      112.9762            11  Flat, Tar/Gravel   \n",
              "157             115000      103.2110             5  Asphalt Shingles   \n",
              "\n",
              "     SQFTABOVEGROUND  YEARBUILT  sales_vs_list  \n",
              "155              898       1983       5.882353  \n",
              "156              840       1973       0.000000  \n",
              "157             1090       1984      -2.173913  "
            ]
          },
          "metadata": {
            "tags": []
          },
          "execution_count": 24
        }
      ]
    },
    {
      "cell_type": "code",
      "metadata": {
        "id": "NZxiYSJFEyat"
      },
      "source": [
        "# SOLUTION: Uncomment and execute the cell below to get help\n",
        "#disp(hint + '05_01_16')"
      ],
      "execution_count": null,
      "outputs": []
    },
    {
      "cell_type": "code",
      "metadata": {
        "id": "2vOWOX7_DOCt",
        "outputId": "64f875a7-d9f6-4941-df89-4f0d505792d2"
      },
      "source": [
        "# Your answer goes here\n"
      ],
      "execution_count": null,
      "outputs": [
        {
          "output_type": "execute_result",
          "data": {
            "text/html": [
              "<div>\n",
              "<style scoped>\n",
              "    .dataframe tbody tr th:only-of-type {\n",
              "        vertical-align: middle;\n",
              "    }\n",
              "\n",
              "    .dataframe tbody tr th {\n",
              "        vertical-align: top;\n",
              "    }\n",
              "\n",
              "    .dataframe thead th {\n",
              "        text-align: right;\n",
              "    }\n",
              "</style>\n",
              "<table border=\"1\" class=\"dataframe\">\n",
              "  <thead>\n",
              "    <tr style=\"text-align: right;\">\n",
              "      <th></th>\n",
              "      <th>mean</th>\n",
              "      <th>count</th>\n",
              "    </tr>\n",
              "    <tr>\n",
              "      <th>PostalCode</th>\n",
              "      <th></th>\n",
              "      <th></th>\n",
              "    </tr>\n",
              "  </thead>\n",
              "  <tbody>\n",
              "    <tr>\n",
              "      <th>55101</th>\n",
              "      <td>229211.651685</td>\n",
              "      <td>89</td>\n",
              "    </tr>\n",
              "    <tr>\n",
              "      <th>55103</th>\n",
              "      <td>185478.571429</td>\n",
              "      <td>70</td>\n",
              "    </tr>\n",
              "    <tr>\n",
              "      <th>55104</th>\n",
              "      <td>245745.831606</td>\n",
              "      <td>386</td>\n",
              "    </tr>\n",
              "    <tr>\n",
              "      <th>55106</th>\n",
              "      <td>175005.966165</td>\n",
              "      <td>532</td>\n",
              "    </tr>\n",
              "    <tr>\n",
              "      <th>55107</th>\n",
              "      <td>188804.597222</td>\n",
              "      <td>144</td>\n",
              "    </tr>\n",
              "    <tr>\n",
              "      <th>55109</th>\n",
              "      <td>228107.943231</td>\n",
              "      <td>229</td>\n",
              "    </tr>\n",
              "    <tr>\n",
              "      <th>55113</th>\n",
              "      <td>186333.333333</td>\n",
              "      <td>3</td>\n",
              "    </tr>\n",
              "    <tr>\n",
              "      <th>55114</th>\n",
              "      <td>233278.260870</td>\n",
              "      <td>23</td>\n",
              "    </tr>\n",
              "    <tr>\n",
              "      <th>55117</th>\n",
              "      <td>191768.424855</td>\n",
              "      <td>346</td>\n",
              "    </tr>\n",
              "    <tr>\n",
              "      <th>55118</th>\n",
              "      <td>210000.000000</td>\n",
              "      <td>1</td>\n",
              "    </tr>\n",
              "    <tr>\n",
              "      <th>55119</th>\n",
              "      <td>211156.096491</td>\n",
              "      <td>456</td>\n",
              "    </tr>\n",
              "    <tr>\n",
              "      <th>55128</th>\n",
              "      <td>223870.700000</td>\n",
              "      <td>400</td>\n",
              "    </tr>\n",
              "    <tr>\n",
              "      <th>55130</th>\n",
              "      <td>172657.112150</td>\n",
              "      <td>107</td>\n",
              "    </tr>\n",
              "  </tbody>\n",
              "</table>\n",
              "</div>"
            ],
            "text/plain": [
              "                     mean  count\n",
              "PostalCode                      \n",
              "55101       229211.651685     89\n",
              "55103       185478.571429     70\n",
              "55104       245745.831606    386\n",
              "55106       175005.966165    532\n",
              "55107       188804.597222    144\n",
              "55109       228107.943231    229\n",
              "55113       186333.333333      3\n",
              "55114       233278.260870     23\n",
              "55117       191768.424855    346\n",
              "55118       210000.000000      1\n",
              "55119       211156.096491    456\n",
              "55128       223870.700000    400\n",
              "55130       172657.112150    107"
            ]
          },
          "metadata": {
            "tags": []
          },
          "execution_count": 25
        }
      ]
    },
    {
      "cell_type": "code",
      "metadata": {
        "id": "nSsdx1CNE3MC"
      },
      "source": [
        "# SOLUTION: Uncomment and execute the cell below to get help\n",
        "#disp(hint + '05_01_17')"
      ],
      "execution_count": null,
      "outputs": []
    },
    {
      "cell_type": "markdown",
      "metadata": {
        "id": "yUZprjZNDOCt"
      },
      "source": [
        "Use the `transform()` function on `df_inexpensive_zips` to create a new column called `SalesPriceNormalized` that shows the proportional value of a sold house to the most expensive house sold within the same zipcode:"
      ]
    },
    {
      "cell_type": "code",
      "metadata": {
        "id": "9oWXHLezDOCu",
        "outputId": "21e0c19f-f3eb-472a-d51f-303d0253039f"
      },
      "source": [
        "# Your answer goes here\n"
      ],
      "execution_count": null,
      "outputs": [
        {
          "output_type": "stream",
          "text": [
            "/Users/msoltani/anaconda3/lib/python3.7/site-packages/ipykernel_launcher.py:3: SettingWithCopyWarning: \n",
            "A value is trying to be set on a copy of a slice from a DataFrame.\n",
            "Try using .loc[row_indexer,col_indexer] = value instead\n",
            "\n",
            "See the caveats in the documentation: http://pandas.pydata.org/pandas-docs/stable/indexing.html#indexing-view-versus-copy\n",
            "  This is separate from the ipykernel package so we can avoid doing imports until\n"
          ],
          "name": "stderr"
        },
        {
          "output_type": "execute_result",
          "data": {
            "text/html": [
              "<div>\n",
              "<style scoped>\n",
              "    .dataframe tbody tr th:only-of-type {\n",
              "        vertical-align: middle;\n",
              "    }\n",
              "\n",
              "    .dataframe tbody tr th {\n",
              "        vertical-align: top;\n",
              "    }\n",
              "\n",
              "    .dataframe thead th {\n",
              "        text-align: right;\n",
              "    }\n",
              "</style>\n",
              "<table border=\"1\" class=\"dataframe\">\n",
              "  <thead>\n",
              "    <tr style=\"text-align: right;\">\n",
              "      <th></th>\n",
              "      <th>streetaddress</th>\n",
              "      <th>STREETNAME</th>\n",
              "      <th>PostalCode</th>\n",
              "      <th>StateOrProvince</th>\n",
              "      <th>City</th>\n",
              "      <th>SchoolDistrictNumber</th>\n",
              "      <th>SalesClosePrice</th>\n",
              "      <th>LISTDATE</th>\n",
              "      <th>offmarketdate</th>\n",
              "      <th>LISTPRICE</th>\n",
              "      <th>LISTTYPE</th>\n",
              "      <th>OriginalListPrice</th>\n",
              "      <th>PricePerTSFT</th>\n",
              "      <th>DAYSONMARKET</th>\n",
              "      <th>ROOF</th>\n",
              "      <th>SQFTABOVEGROUND</th>\n",
              "      <th>YEARBUILT</th>\n",
              "      <th>sales_vs_list</th>\n",
              "      <th>SalesPriceNormalized</th>\n",
              "    </tr>\n",
              "  </thead>\n",
              "  <tbody>\n",
              "    <tr>\n",
              "      <th>155</th>\n",
              "      <td>1215 Ferndale St N, A8</td>\n",
              "      <td>Ferndale</td>\n",
              "      <td>55119</td>\n",
              "      <td>MN</td>\n",
              "      <td>MAPW - Maplewood</td>\n",
              "      <td>622 - North St Paul-Maplewood</td>\n",
              "      <td>90000</td>\n",
              "      <td>4/20/2017 0:00</td>\n",
              "      <td>5/18/2017 0:00</td>\n",
              "      <td>85000</td>\n",
              "      <td>Exclusive Right</td>\n",
              "      <td>85000</td>\n",
              "      <td>100.2227</td>\n",
              "      <td>6</td>\n",
              "      <td>Asphalt Shingles</td>\n",
              "      <td>898</td>\n",
              "      <td>1983</td>\n",
              "      <td>5.882353</td>\n",
              "      <td>0.17</td>\n",
              "    </tr>\n",
              "    <tr>\n",
              "      <th>156</th>\n",
              "      <td>2465 Londin Ln E, 207</td>\n",
              "      <td>Londin</td>\n",
              "      <td>55119</td>\n",
              "      <td>MN</td>\n",
              "      <td>MAPW - Maplewood</td>\n",
              "      <td>622 - North St Paul-Maplewood</td>\n",
              "      <td>94900</td>\n",
              "      <td>5/4/2017 0:00</td>\n",
              "      <td>5/15/2017 0:00</td>\n",
              "      <td>94900</td>\n",
              "      <td>Exclusive Right</td>\n",
              "      <td>94900</td>\n",
              "      <td>112.9762</td>\n",
              "      <td>11</td>\n",
              "      <td>Flat, Tar/Gravel</td>\n",
              "      <td>840</td>\n",
              "      <td>1973</td>\n",
              "      <td>0.000000</td>\n",
              "      <td>0.18</td>\n",
              "    </tr>\n",
              "    <tr>\n",
              "      <th>157</th>\n",
              "      <td>701 Larpenteur Ave E, 701G</td>\n",
              "      <td>Larpenteur</td>\n",
              "      <td>55117</td>\n",
              "      <td>MN</td>\n",
              "      <td>MAPW - Maplewood</td>\n",
              "      <td>623 - Roseville</td>\n",
              "      <td>112500</td>\n",
              "      <td>12/13/2017 0:00</td>\n",
              "      <td>1/22/2018 0:00</td>\n",
              "      <td>115000</td>\n",
              "      <td>Exclusive Right</td>\n",
              "      <td>115000</td>\n",
              "      <td>103.2110</td>\n",
              "      <td>5</td>\n",
              "      <td>Asphalt Shingles</td>\n",
              "      <td>1090</td>\n",
              "      <td>1984</td>\n",
              "      <td>-2.173913</td>\n",
              "      <td>0.29</td>\n",
              "    </tr>\n",
              "  </tbody>\n",
              "</table>\n",
              "</div>"
            ],
            "text/plain": [
              "                  streetaddress  STREETNAME  PostalCode StateOrProvince  \\\n",
              "155      1215 Ferndale St N, A8    Ferndale       55119              MN   \n",
              "156       2465 Londin Ln E, 207      Londin       55119              MN   \n",
              "157  701 Larpenteur Ave E, 701G  Larpenteur       55117              MN   \n",
              "\n",
              "                 City           SchoolDistrictNumber  SalesClosePrice  \\\n",
              "155  MAPW - Maplewood  622 - North St Paul-Maplewood            90000   \n",
              "156  MAPW - Maplewood  622 - North St Paul-Maplewood            94900   \n",
              "157  MAPW - Maplewood                623 - Roseville           112500   \n",
              "\n",
              "            LISTDATE   offmarketdate  LISTPRICE         LISTTYPE  \\\n",
              "155   4/20/2017 0:00  5/18/2017 0:00      85000  Exclusive Right   \n",
              "156    5/4/2017 0:00  5/15/2017 0:00      94900  Exclusive Right   \n",
              "157  12/13/2017 0:00  1/22/2018 0:00     115000  Exclusive Right   \n",
              "\n",
              "     OriginalListPrice  PricePerTSFT  DAYSONMARKET              ROOF  \\\n",
              "155              85000      100.2227             6  Asphalt Shingles   \n",
              "156              94900      112.9762            11  Flat, Tar/Gravel   \n",
              "157             115000      103.2110             5  Asphalt Shingles   \n",
              "\n",
              "     SQFTABOVEGROUND  YEARBUILT  sales_vs_list  SalesPriceNormalized  \n",
              "155              898       1983       5.882353                  0.17  \n",
              "156              840       1973       0.000000                  0.18  \n",
              "157             1090       1984      -2.173913                  0.29  "
            ]
          },
          "metadata": {
            "tags": []
          },
          "execution_count": 26
        }
      ]
    },
    {
      "cell_type": "code",
      "metadata": {
        "id": "Af2HB8oGE7ms"
      },
      "source": [
        "# SOLUTION: Uncomment and execute the cell below to get help\n",
        "#disp(hint + '05_01_18')"
      ],
      "execution_count": null,
      "outputs": []
    }
  ]
}